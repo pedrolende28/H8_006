{
 "cells": [
  {
   "cell_type": "code",
   "execution_count": 1,
   "id": "0c858f6b",
   "metadata": {},
   "outputs": [],
   "source": [
    "import numpy as np\n",
    "import pandas as pd\n",
    "import seaborn as sns"
   ]
  },
  {
   "cell_type": "code",
   "execution_count": 8,
   "id": "fd0988c4",
   "metadata": {},
   "outputs": [],
   "source": [
    "Data = sns.load_dataset('mpg')\n",
    "dataframe = pd.DataFrame(Data)"
   ]
  },
  {
   "cell_type": "code",
   "execution_count": 15,
   "id": "31d63703",
   "metadata": {},
   "outputs": [
    {
     "data": {
      "text/html": [
       "<div>\n",
       "<style scoped>\n",
       "    .dataframe tbody tr th:only-of-type {\n",
       "        vertical-align: middle;\n",
       "    }\n",
       "\n",
       "    .dataframe tbody tr th {\n",
       "        vertical-align: top;\n",
       "    }\n",
       "\n",
       "    .dataframe thead th {\n",
       "        text-align: right;\n",
       "    }\n",
       "</style>\n",
       "<table border=\"1\" class=\"dataframe\">\n",
       "  <thead>\n",
       "    <tr style=\"text-align: right;\">\n",
       "      <th></th>\n",
       "      <th>origin</th>\n",
       "      <th>mean</th>\n",
       "      <th>std</th>\n",
       "      <th>sum</th>\n",
       "      <th>count</th>\n",
       "      <th>min</th>\n",
       "      <th>max</th>\n",
       "    </tr>\n",
       "  </thead>\n",
       "  <tbody>\n",
       "    <tr>\n",
       "      <th>0</th>\n",
       "      <td>europe</td>\n",
       "      <td>2423.300000</td>\n",
       "      <td>490.043191</td>\n",
       "      <td>169631</td>\n",
       "      <td>70</td>\n",
       "      <td>1825</td>\n",
       "      <td>3820</td>\n",
       "    </tr>\n",
       "    <tr>\n",
       "      <th>1</th>\n",
       "      <td>japan</td>\n",
       "      <td>2221.227848</td>\n",
       "      <td>320.497248</td>\n",
       "      <td>175477</td>\n",
       "      <td>79</td>\n",
       "      <td>1613</td>\n",
       "      <td>2930</td>\n",
       "    </tr>\n",
       "    <tr>\n",
       "      <th>2</th>\n",
       "      <td>usa</td>\n",
       "      <td>3361.931727</td>\n",
       "      <td>794.792506</td>\n",
       "      <td>837121</td>\n",
       "      <td>249</td>\n",
       "      <td>1800</td>\n",
       "      <td>5140</td>\n",
       "    </tr>\n",
       "  </tbody>\n",
       "</table>\n",
       "</div>"
      ],
      "text/plain": [
       "   origin         mean         std     sum  count   min   max\n",
       "0  europe  2423.300000  490.043191  169631     70  1825  3820\n",
       "1   japan  2221.227848  320.497248  175477     79  1613  2930\n",
       "2     usa  3361.931727  794.792506  837121    249  1800  5140"
      ]
     },
     "execution_count": 15,
     "metadata": {},
     "output_type": "execute_result"
    }
   ],
   "source": [
    "dataframe.groupby('origin')['weight'].agg(['mean', 'std', 'sum', 'count', 'min', 'max']).reset_index()"
   ]
  },
  {
   "cell_type": "code",
   "execution_count": null,
   "id": "eaab7ef5",
   "metadata": {},
   "outputs": [],
   "source": []
  }
 ],
 "metadata": {
  "kernelspec": {
   "display_name": "Python 3 (ipykernel)",
   "language": "python",
   "name": "python3"
  },
  "language_info": {
   "codemirror_mode": {
    "name": "ipython",
    "version": 3
   },
   "file_extension": ".py",
   "mimetype": "text/x-python",
   "name": "python",
   "nbconvert_exporter": "python",
   "pygments_lexer": "ipython3",
   "version": "3.9.7"
  }
 },
 "nbformat": 4,
 "nbformat_minor": 5
}
