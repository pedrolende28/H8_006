{
 "cells": [
  {
   "cell_type": "code",
   "execution_count": 9,
   "id": "e9b60633",
   "metadata": {},
   "outputs": [],
   "source": [
    "import numpy as np"
   ]
  },
  {
   "cell_type": "code",
   "execution_count": 10,
   "id": "05e6d55b",
   "metadata": {},
   "outputs": [
    {
     "name": "stdout",
     "output_type": "stream",
     "text": [
      "Mulai: 1\n",
      "Selesai: 31\n"
     ]
    }
   ],
   "source": [
    "Awal = input('Mulai: ')\n",
    "Akhir = input('Selesai: ')\n",
    "\n",
    "nilai = np.arange(int(Awal), int(Akhir))"
   ]
  },
  {
   "cell_type": "code",
   "execution_count": 11,
   "id": "3a674349",
   "metadata": {},
   "outputs": [
    {
     "data": {
      "text/plain": [
       "array([ 1,  2,  3,  4,  5,  6,  7,  8,  9, 10, 11, 12, 13, 14, 15, 16, 17,\n",
       "       18, 19, 20, 21, 22, 23, 24, 25, 26, 27, 28, 29, 30])"
      ]
     },
     "execution_count": 11,
     "metadata": {},
     "output_type": "execute_result"
    }
   ],
   "source": [
    "# 1 Dimensi\n",
    "nilai"
   ]
  },
  {
   "cell_type": "code",
   "execution_count": 12,
   "id": "661a4380",
   "metadata": {},
   "outputs": [
    {
     "data": {
      "text/plain": [
       "array([[ 1,  2,  3,  4,  5,  6,  7,  8,  9, 10, 11, 12, 13, 14, 15],\n",
       "       [16, 17, 18, 19, 20, 21, 22, 23, 24, 25, 26, 27, 28, 29, 30]])"
      ]
     },
     "execution_count": 12,
     "metadata": {},
     "output_type": "execute_result"
    }
   ],
   "source": [
    "# 2 Dimensi\n",
    "nilai.reshape(2,15)"
   ]
  },
  {
   "cell_type": "code",
   "execution_count": 8,
   "id": "3d9e86c7",
   "metadata": {},
   "outputs": [
    {
     "data": {
      "text/plain": [
       "array([[[ 1,  2],\n",
       "        [ 3,  4],\n",
       "        [ 5,  6],\n",
       "        [ 7,  8],\n",
       "        [ 9, 10]],\n",
       "\n",
       "       [[11, 12],\n",
       "        [13, 14],\n",
       "        [15, 16],\n",
       "        [17, 18],\n",
       "        [19, 20]],\n",
       "\n",
       "       [[21, 22],\n",
       "        [23, 24],\n",
       "        [25, 26],\n",
       "        [27, 28],\n",
       "        [29, 30]]])"
      ]
     },
     "execution_count": 8,
     "metadata": {},
     "output_type": "execute_result"
    }
   ],
   "source": [
    "# 3 Dimensi\n",
    "nilai.reshape(3,5,2)"
   ]
  },
  {
   "cell_type": "code",
   "execution_count": null,
   "id": "58131941",
   "metadata": {},
   "outputs": [],
   "source": []
  }
 ],
 "metadata": {
  "kernelspec": {
   "display_name": "Python 3 (ipykernel)",
   "language": "python",
   "name": "python3"
  },
  "language_info": {
   "codemirror_mode": {
    "name": "ipython",
    "version": 3
   },
   "file_extension": ".py",
   "mimetype": "text/x-python",
   "name": "python",
   "nbconvert_exporter": "python",
   "pygments_lexer": "ipython3",
   "version": "3.9.7"
  }
 },
 "nbformat": 4,
 "nbformat_minor": 5
}
