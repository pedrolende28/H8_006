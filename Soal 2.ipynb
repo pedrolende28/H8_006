{
 "cells": [
  {
   "cell_type": "code",
   "execution_count": 2,
   "id": "46022532",
   "metadata": {},
   "outputs": [],
   "source": [
    "import numpy as np\n",
    "import pandas as pd"
   ]
  },
  {
   "cell_type": "code",
   "execution_count": 5,
   "id": "f64dc5a1",
   "metadata": {},
   "outputs": [
    {
     "name": "stdout",
     "output_type": "stream",
     "text": [
      "mulai: 1\n",
      "selesai: 61\n",
      "banyak data: 28\n"
     ]
    }
   ],
   "source": [
    "a = int(input('mulai: '))\n",
    "b = int(input('selesai: '))\n",
    "c = int(input('banyak data: '))\n",
    "\n",
    "data = np.random.randint(a,b,c)"
   ]
  },
  {
   "cell_type": "code",
   "execution_count": 11,
   "id": "de2ed19a",
   "metadata": {},
   "outputs": [
    {
     "data": {
      "text/plain": [
       "array([22, 55, 31, 14, 47, 35, 51, 29,  8, 44, 41, 22, 11, 39, 10, 34,  9,\n",
       "       41, 47, 46, 53, 59, 28, 37, 57, 14, 25,  9])"
      ]
     },
     "execution_count": 11,
     "metadata": {},
     "output_type": "execute_result"
    }
   ],
   "source": [
    "# 1 Dimensi\n",
    "data"
   ]
  },
  {
   "cell_type": "code",
   "execution_count": 12,
   "id": "c793f90f",
   "metadata": {},
   "outputs": [
    {
     "data": {
      "text/plain": [
       "array([[22, 55, 31, 14, 47, 35, 51],\n",
       "       [29,  8, 44, 41, 22, 11, 39],\n",
       "       [10, 34,  9, 41, 47, 46, 53],\n",
       "       [59, 28, 37, 57, 14, 25,  9]])"
      ]
     },
     "execution_count": 12,
     "metadata": {},
     "output_type": "execute_result"
    }
   ],
   "source": [
    "# Dua dimensi\n",
    "twodim = data.reshape(4,7)\n",
    "twodim"
   ]
  },
  {
   "cell_type": "code",
   "execution_count": 10,
   "id": "627df256",
   "metadata": {},
   "outputs": [
    {
     "data": {
      "text/plain": [
       "array([[59, 28, 37, 57, 14, 25,  9],\n",
       "       [10, 34,  9, 41, 47, 46, 53],\n",
       "       [29,  8, 44, 41, 22, 11, 39],\n",
       "       [22, 55, 31, 14, 47, 35, 51]])"
      ]
     },
     "execution_count": 10,
     "metadata": {},
     "output_type": "execute_result"
    }
   ],
   "source": [
    "# Tukar posisi\n",
    "twodim[::-1]"
   ]
  }
 ],
 "metadata": {
  "kernelspec": {
   "display_name": "Python 3 (ipykernel)",
   "language": "python",
   "name": "python3"
  },
  "language_info": {
   "codemirror_mode": {
    "name": "ipython",
    "version": 3
   },
   "file_extension": ".py",
   "mimetype": "text/x-python",
   "name": "python",
   "nbconvert_exporter": "python",
   "pygments_lexer": "ipython3",
   "version": "3.9.7"
  }
 },
 "nbformat": 4,
 "nbformat_minor": 5
}
