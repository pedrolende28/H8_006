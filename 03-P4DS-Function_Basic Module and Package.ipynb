{
 "cells": [
  {
   "cell_type": "markdown",
   "metadata": {},
   "source": [
    "# Function, Basic Module, and Package"
   ]
  },
  {
   "cell_type": "markdown",
   "metadata": {},
   "source": [
    "## Python Function\n",
    "\n",
    "    Function adalah blok kode yang terorganisir dan dapat digunakan kembai (reuse code). \n",
    "    Python memberi kalian banyak built-in functions seperti print(), dll. \n",
    "    Tetapi kalian juga dapat membuat function sendiri. Fungsi-fungsi ini disebut user-defined functions."
   ]
  },
  {
   "cell_type": "markdown",
   "metadata": {},
   "source": [
    "### Defining a Function\n",
    "    \n",
    "    aturan sederhana : \n",
    "    \n",
    "* Function blocks dimulai dengan keyword **def** diikuti dengan *nama fungsi* dan tanda kurung (()).\n",
    "* Parameter atau argumen masukan apa pun harus ditempatkan di dalam tanda kurung ini.\n",
    "* Statement awal dari suatu fungsi dapat berupa optional statement - dokumentasi dari fungsi atau docstring.\n",
    "* Blok kode dalam setiap function dimulai dengan titik dua (:) dan diberi indentasi.\n",
    "* Statement return [expression] menyebabkan kita keluar dari suatu fungsi, dan secara opsional meneruskan ekspresi ke pemanggil. Pernyataan return tanpa argumen sama dengan return None.\n",
    "    \n",
    "\n"
   ]
  },
  {
   "cell_type": "markdown",
   "metadata": {},
   "source": [
    "Function statement \n",
    "\n",
    "![alt text](https://i.ibb.co/t2n5Tcn/Screen-Shot-2021-08-28-at-9-22-55-AM.png \"Function\")"
   ]
  },
  {
   "cell_type": "markdown",
   "metadata": {},
   "source": [
    "Keuntungan dari Fungsi yang Ditentukan Pengguna di Python\n",
    "* Fungsi Python ini membantu membagi program menjadi modul. Ini membuat kode lebih mudah untuk dikelola, di-debug, dan diskalakan.\n",
    "* Ini mengimplementasikan penggunaan kembali kode. Setiap kali Anda perlu menjalankan urutan pernyataan, yang perlu Anda lakukan hanyalah memanggil fungsi tersebut.\n",
    "* Fungsi Python ini memungkinkan kita untuk mengubah fungsionalitas dengan mudah, dan programmer yang berbeda dapat bekerja pada fungsi yang berbeda."
   ]
  },
  {
   "cell_type": "code",
   "execution_count": null,
   "metadata": {},
   "outputs": [],
   "source": [
    "# function luas \n",
    "# p = panjang \n",
    "# l = lebar \n",
    "# luas = p x l \n",
    "def func_luas(p,l): \n",
    "    \"function untuk menghitung luas\"\n",
    "    print(p*l)\n",
    "               # return None "
   ]
  },
  {
   "cell_type": "code",
   "execution_count": null,
   "metadata": {},
   "outputs": [],
   "source": [
    "func_luas(20,2)"
   ]
  },
  {
   "cell_type": "code",
   "execution_count": null,
   "metadata": {},
   "outputs": [],
   "source": [
    "print(func_luas(20,2)) ## menampilkan return dari function "
   ]
  },
  {
   "cell_type": "code",
   "execution_count": null,
   "metadata": {},
   "outputs": [],
   "source": [
    "def func_luas2(p,l): \n",
    "    \"function untuk menghitung luas\"\n",
    "    return p*l    # return value"
   ]
  },
  {
   "cell_type": "code",
   "execution_count": null,
   "metadata": {},
   "outputs": [],
   "source": [
    "luas = func_luas2(30,4)\n",
    "print(\"Luas :\",luas)"
   ]
  },
  {
   "cell_type": "code",
   "execution_count": null,
   "metadata": {},
   "outputs": [],
   "source": [
    "def printme( str ):\n",
    "   \"This prints a passed string into this function\"\n",
    "   print(str)\n",
    "   return"
   ]
  },
  {
   "cell_type": "code",
   "execution_count": null,
   "metadata": {},
   "outputs": [],
   "source": [
    "hasil = printme(\"iketutg\")\n",
    "print(hasil)"
   ]
  },
  {
   "cell_type": "markdown",
   "metadata": {},
   "source": [
    "### buatlah function pengecekan nilai ganjil atau genap"
   ]
  },
  {
   "cell_type": "code",
   "execution_count": null,
   "metadata": {},
   "outputs": [],
   "source": []
  },
  {
   "cell_type": "code",
   "execution_count": null,
   "metadata": {},
   "outputs": [],
   "source": [
    "def cekbilangan(x):\n",
    "    if x % 2:\n",
    "        print(\"Bilangan Ganjil\") \n",
    "    else : \n",
    "        print(\"Bilangan Genap\")\n",
    "    return \n",
    "\n",
    "print(cekbilangan(11))"
   ]
  },
  {
   "cell_type": "code",
   "execution_count": null,
   "metadata": {},
   "outputs": [],
   "source": []
  },
  {
   "cell_type": "markdown",
   "metadata": {},
   "source": [
    "### Aturan penamaan fungsi python\n",
    "\n",
    "    Kami mengikuti aturan yang sama saat memberi nama fungsi seperti yang kami lakukan saat memberi nama variabel.\n",
    "\n",
    "* Itu bisa dimulai dengan salah satu dari berikut ini: AZ, az, dan garis bawah(_).\n",
    "* Sisanya dapat berisi salah satu dari berikut ini: AZ, az, digit (0-9), dan garis bawah (_).\n",
    "* Kata kunci yang dicadangkan tidak boleh dipilih sebagai pengenal.\n",
    "* Ini adalah praktik yang baik untuk memberi nama fungsi Python sesuai dengan fungsinya."
   ]
  },
  {
   "cell_type": "markdown",
   "metadata": {},
   "source": [
    "### Calling a Function\n",
    "    "
   ]
  },
  {
   "cell_type": "code",
   "execution_count": null,
   "metadata": {},
   "outputs": [],
   "source": [
    "# Function definition is here\n",
    "def printme( str ):\n",
    "   \"This prints a passed string into this function\"\n",
    "   print(str)\n",
    "   return;\n",
    "\n",
    "# Now you can call printme function\n",
    "printme(\"I'm first call to user defined function!\")\n",
    "printme(\"Again second call to the same function\")"
   ]
  },
  {
   "cell_type": "markdown",
   "metadata": {},
   "source": [
    "### Pass by reference vs value\n",
    "    Semua parameter (arguments) dalam Python di-passed by reference. Artinya jika kalian mengubah apa yang dirujuk oleh parameter dalam suatu fungsi, perubahan tersebut juga kembali fungsi pemanggil. Sebagai contoh:\n",
    "        "
   ]
  },
  {
   "cell_type": "code",
   "execution_count": null,
   "metadata": {},
   "outputs": [],
   "source": [
    "listx = [9,8,7] \n",
    "print(f\"isi list {listx}\")\n"
   ]
  },
  {
   "cell_type": "code",
   "execution_count": null,
   "metadata": {},
   "outputs": [],
   "source": [
    "listx.append([0,1,2]) \n",
    "print(f\"isi list terbaru setelah di append {listx}\")\n",
    "listx.append(10)\n",
    "print(f\"isi list terbaru setelah di append {listx}\")\n"
   ]
  },
  {
   "cell_type": "code",
   "execution_count": 1,
   "metadata": {},
   "outputs": [],
   "source": [
    "# Function definition is here\n",
    "def changeme( mylist ):\n",
    "   \"This changes a passed list into this function\"\n",
    "   mylist.append([1,2,3,4]);\n",
    "   print(\"Values inside the function: \", mylist)\n",
    "   return  # none \n"
   ]
  },
  {
   "cell_type": "code",
   "execution_count": 2,
   "metadata": {},
   "outputs": [
    {
     "name": "stdout",
     "output_type": "stream",
     "text": [
      "Values inside the function:  [10, 20, 30, [1, 2, 3, 4]]\n",
      "Values outside the function:  [10, 20, 30, [1, 2, 3, 4]]\n"
     ]
    }
   ],
   "source": [
    "# Now you can call changeme function\n",
    "mylist = [10,20,30];\n",
    "changeme( mylist );\n",
    "print(\"Values outside the function: \", mylist)"
   ]
  },
  {
   "cell_type": "code",
   "execution_count": 4,
   "metadata": {},
   "outputs": [],
   "source": [
    "# Function definition is here\n",
    "def changeme( mylist ):\n",
    "   \"This changes a passed list into this function\"\n",
    "   mylist = [1,2,3,4]; # This would assig new reference in mylist\n",
    "   print(\"Values inside the function: \", mylist)\n",
    "   return\n"
   ]
  },
  {
   "cell_type": "code",
   "execution_count": 5,
   "metadata": {},
   "outputs": [
    {
     "name": "stdout",
     "output_type": "stream",
     "text": [
      "Values inside the function:  [1, 2, 3, 4]\n",
      "Values outside the function:  [10, 20, 30]\n"
     ]
    }
   ],
   "source": [
    "# Now you can call changeme function\n",
    "mylist = [10,20,30];\n",
    "changeme( mylist );\n",
    "print(\"Values outside the function: \", mylist)"
   ]
  },
  {
   "cell_type": "code",
   "execution_count": 7,
   "metadata": {},
   "outputs": [
    {
     "name": "stdout",
     "output_type": "stream",
     "text": [
      "hitung saldo selesai  3990\n",
      "Nominal belanja : 1000\n",
      "Discount        : - 10\n",
      "Saldo sekarang : 3990\n"
     ]
    }
   ],
   "source": [
    "# bandingan dg function ini apakah saldo mengikuti perubahan ? \n",
    "def hitung(amt  ,disc  ,saldo ):\n",
    "    \"hitung sisa saldo\"\n",
    "    saldo -= amt + disc            #    \n",
    "    print(\"hitung saldo selesai \",saldo) # saldo berubah ? \n",
    "    return \n",
    "\n",
    "amt = 1000\n",
    "disc = 10 \n",
    "saldo = 5000\n",
    "hitung(amt, disc, saldo)\n",
    "\n",
    "print(f'Nominal belanja : {amt}')\n",
    "print(f'Discount        : - {disc}')\n",
    "print(f\"Saldo sekarang : {saldo}\")  # Saldo berubah "
   ]
  },
  {
   "cell_type": "markdown",
   "metadata": {},
   "source": [
    "### Function Arguments\n",
    "    Kalian bisa memanggil suatu fungsi dengan menggunakan tipe argumen berikut\n",
    "\n",
    "* Required arguments / position arguments \n",
    "* Keyword arguments\n",
    "* Default arguments\n",
    "* Variable-length arguments\n",
    "\n",
    "Argumen Posisi\n",
    "Argumen Kata Kunci\n",
    "Argumen Default\n",
    "Argumen Posisi Panjang Variabel (*args)\n",
    "Argumen Kata Kunci Panjang Variabel (**kwargs)"
   ]
  },
  {
   "cell_type": "markdown",
   "metadata": {},
   "source": [
    "#### Required arguments\n",
    "\n",
    "    Required arguments adalah argumen yang diteruskan ke suatu fungsi dalam urutan posisi yang benar. Di sini, \n",
    "    jumlah argumen dalam pemanggilan fungsi harus sama persis dengan function definition.\n",
    "\n",
    "    Contoh dibawah ini : \n"
   ]
  },
  {
   "cell_type": "code",
   "execution_count": 8,
   "metadata": {},
   "outputs": [
    {
     "name": "stdout",
     "output_type": "stream",
     "text": [
      "hello\n"
     ]
    }
   ],
   "source": [
    "\n",
    "# Function definition is here\n",
    "def printme( str ):\n",
    "   \"This prints a passed string into this function\"\n",
    "   print(str)\n",
    "   return;\n",
    "\n",
    "# Now you can call printme function\n",
    "printme(\"hello\") # rubah parameter "
   ]
  },
  {
   "cell_type": "code",
   "execution_count": 9,
   "metadata": {},
   "outputs": [
    {
     "name": "stdout",
     "output_type": "stream",
     "text": [
      "Jack is a developer\n",
      "developer is a Jack\n"
     ]
    }
   ],
   "source": [
    "def func(name, job):\n",
    "    print(name, 'is a', job)\n",
    "\n",
    "func('Jack', 'developer')\n",
    "# Prints Jack is a developer\n",
    "\n",
    "func('developer', 'Jack')\n"
   ]
  },
  {
   "cell_type": "markdown",
   "metadata": {},
   "source": [
    "#### Keyword arguments\n",
    "\n",
    "\n",
    "    Untuk menghindari kebingungan argumen posisi, Anda dapat meneruskan argumen \n",
    "    menggunakan nama parameter terkaitnya.\n",
    "\n",
    "    Dalam hal ini, urutan argumen tidak lagi penting karena argumen dicocokkan dengan nama, bukan dengan posisi.\n",
    "    \n",
    "    Hal ini memungkinkan kalian untuk melewati argumen atau menempatkannya tidak berurutan karena interpreter \n",
    "    Python dapat menggunakan kata kunci yang disediakan untuk mencocokkan nilai dengan parameter. \n",
    "    Kalian juga dapat membuat panggilan kata kunci ke fungsi printme() dengan cara berikut:"
   ]
  },
  {
   "cell_type": "code",
   "execution_count": 10,
   "metadata": {},
   "outputs": [
    {
     "name": "stdout",
     "output_type": "stream",
     "text": [
      "Hacktiv8\n"
     ]
    }
   ],
   "source": [
    "\n",
    "# Function definition is here\n",
    "def printme( str ):\n",
    "    \"This prints a passed string into this function\"\n",
    "    print(str)\n",
    "    return;\n",
    "\n",
    "# Now you can call printme function\n",
    "printme(str = \"Hacktiv8\")"
   ]
  },
  {
   "cell_type": "code",
   "execution_count": 11,
   "metadata": {},
   "outputs": [
    {
     "name": "stdout",
     "output_type": "stream",
     "text": [
      "Jack is a developer\n"
     ]
    }
   ],
   "source": [
    "# Keyword arguments can be put in any order\n",
    "def func(name, job):\n",
    "    print(name, 'is a', job)\n",
    "\n",
    "func(name='Jack', job='developer') # ?\n"
   ]
  },
  {
   "cell_type": "code",
   "execution_count": 12,
   "metadata": {},
   "outputs": [
    {
     "name": "stdout",
     "output_type": "stream",
     "text": [
      "Jack is a developer\n"
     ]
    }
   ],
   "source": [
    "func(job='developer', name='Jack') # ? "
   ]
  },
  {
   "cell_type": "code",
   "execution_count": 13,
   "metadata": {},
   "outputs": [
    {
     "name": "stdout",
     "output_type": "stream",
     "text": [
      " Nama : Ketut\n",
      " Amt  : 10\n",
      " Disc : 90.5\n"
     ]
    }
   ],
   "source": [
    "\n",
    "def printme(nama , intamt , fldisc):\n",
    "    \"This prints a passed string,int, float into this function\"\n",
    "    print(\" Nama :\",nama)\n",
    "    print(\" Amt  :\", intamt ) \n",
    "    print(\" Disc :\",fldisc)\n",
    "    return\n",
    "\n",
    "printme(intamt = 10 , fldisc = 90.5 , nama = \"Ketut\" )"
   ]
  },
  {
   "cell_type": "markdown",
   "metadata": {},
   "source": [
    "#### Default arguments\n",
    "\n",
    "    Default argument adalah argumen yang mengasumsikan nilai default jika nilai tidak disediakan dalam pemanggilan \n",
    "    fungsi untuk argumen tersebut. Contoh berikut memberikan gambaran tentang Default argument : \n",
    "\n",
    "    "
   ]
  },
  {
   "cell_type": "code",
   "execution_count": 15,
   "metadata": {},
   "outputs": [
    {
     "name": "stdout",
     "output_type": "stream",
     "text": [
      "Invoice :  1\n",
      "Name:  hacktiv8\n",
      "Amt:  50000\n",
      "Disc: 5000\n",
      "====================\n",
      "Total: 45000\n",
      "\n",
      "\n",
      "##############################\n",
      "\n",
      "\n",
      "Invoice :  2\n",
      "Name:  Jhon\n",
      "Amt:  10000\n",
      "Disc: 100\n",
      "====================\n",
      "Total: 9900\n"
     ]
    }
   ],
   "source": [
    "# Function definition is here\n",
    "# Default dari Disc 100 \n",
    "def totalInvoice( name, amt,  disc = 100 ):\n",
    "    \"This prints a passed info into this function\"\n",
    "    print(\"Name: \", name)\n",
    "    print(\"Amt: \", amt)\n",
    "    print(\"Disc:\", disc) \n",
    "    total = amt - disc \n",
    "    print(10*\"==\")\n",
    "    print(\"Total:\",total)\n",
    "    return\n",
    "\n",
    "# Now you can call printinfo function\n",
    "print(\"Invoice : \",1) \n",
    "totalInvoice( amt=50000, name=\"hacktiv8\", disc = 5000 )\n",
    "print(\"\\n\")\n",
    "\n",
    "print(10*\"###\")\n",
    "print(\"\\n\")\n",
    "print(\"Invoice : \",2) \n",
    "totalInvoice( name=\"Jhon\",  amt=10000)"
   ]
  },
  {
   "cell_type": "markdown",
   "metadata": {},
   "source": [
    "#### Variable-length arguments\n",
    "\n",
    "    Kalian mungkin perlu memproses suatu fungsi untuk menerima lebih banyak dan jumlahnya tak terbatas.  \n",
    "    Tidak terbatas dalam artian Anda tidak mengetahui sebelumnya berapa banyak argumen yang dapat diteruskan \n",
    "    ke fungsi Anda oleh pengguna.  Argumen ini disebut variable-length arguments dan tidak diberi nama \n",
    "    ketika definisi fungsi, tidak seperti required dan default arguments.\n",
    "\n",
    "#####  *args\n",
    "    Saat Anda mengawali parameter dengan asterisk *, parameter tersebut mengumpulkan semua argumen posisi yang \n",
    "    tidak cocok ke dalam sebuah tuple. Karena ini adalah objek Tuple normal, Anda dapat melakukan operasi \n",
    "    apa pun yang didukung oleh Tuple, seperti pengindeksan, iterasi, dll.\n"
   ]
  },
  {
   "cell_type": "markdown",
   "metadata": {},
   "source": [
    "```\n",
    "    def functionname([formal_args,] *var_args_tuple ):\n",
    "       \"function_docstring\"\n",
    "       function_suite\n",
    "       return [expression]\n",
    "```   "
   ]
  },
  {
   "cell_type": "markdown",
   "metadata": {},
   "source": [
    "    Tanda bintang (*) ditempatkan sebelum nama variabel yang menyimpan nilai dari semua nonkeyword variable \n",
    "    arguments. Tuple tersebut tetap kosong jika tidak ada argumen tambahan yang ditentukan selama pemanggilan \n",
    "    fungsi. Berikut adalah contoh sederhana:"
   ]
  },
  {
   "cell_type": "code",
   "execution_count": 18,
   "metadata": {},
   "outputs": [
    {
     "name": "stdout",
     "output_type": "stream",
     "text": [
      "<class 'tuple'>\n",
      "(1, 54, 60, 8, 98, 12)\n"
     ]
    }
   ],
   "source": [
    "# *args \n",
    "def print_arguments(*args):\n",
    "    print(type(args))\n",
    "    print(args)\n",
    "\n",
    "print_arguments(1, 54, 60, 8, 98, 12)"
   ]
  },
  {
   "cell_type": "code",
   "execution_count": 24,
   "metadata": {},
   "outputs": [
    {
     "name": "stdout",
     "output_type": "stream",
     "text": [
      "Output is: \n",
      "10\n",
      "()\n",
      "<class 'tuple'>\n",
      "function done\n",
      "Output is: \n",
      "70\n",
      "(60, 50, 'a')\n",
      "<class 'tuple'>\n",
      "60\n",
      "50\n",
      "a\n",
      "function done\n",
      "Output is: \n",
      "This prints a variable passed arguments\n",
      "()\n",
      "<class 'tuple'>\n",
      "function done\n",
      "Output is: \n",
      "1\n",
      "('Hello', 12, 4, 5, 6, 'Apa kabar')\n",
      "<class 'tuple'>\n",
      "Hello\n",
      "12\n",
      "4\n",
      "5\n",
      "6\n",
      "Apa kabar\n",
      "function done\n",
      "Output is: \n",
      "1\n",
      "('Hello', 12, 4, 5, 6, 20)\n",
      "<class 'tuple'>\n",
      "Hello\n",
      "12\n",
      "4\n",
      "5\n",
      "6\n",
      "20\n",
      "function done\n",
      "Output is: \n",
      "1\n",
      "('Hello', 12, 4, 5, 6, {0, 1, 2, 4, 5})\n",
      "<class 'tuple'>\n",
      "Hello\n",
      "12\n",
      "4\n",
      "5\n",
      "6\n",
      "{0, 1, 2, 4, 5}\n",
      "function done\n"
     ]
    }
   ],
   "source": [
    "# Function definition is here\n",
    "def printinfo( arg1, *vartuple ):\n",
    "    \"This prints a variable passed arguments\"\n",
    "    print(\"Output is: \")\n",
    "    print(arg1)\n",
    "    print(vartuple)\n",
    "    print(type(vartuple))\n",
    "    for var in vartuple:\n",
    "        print(var)\n",
    "    \n",
    "    print(\"function done\")\n",
    "    return;\n",
    "\n",
    "# Now you can call printinfo function\n",
    "printinfo( 10 ) ## run here \n",
    "printinfo( 70, 60, 50, \"a\" ) ## open remark ?\n",
    "printinfo(printinfo.__doc__) ## open remark ?\n",
    "printinfo(1,\"Hello\", 12,4,5,6, \"Apa kabar\")\n",
    "\n",
    "printinfo(1,\"Hello\", 12,4,5,6, 10 * 2)\n",
    "\n",
    "#dapat melakukan operasi  apa pun yang didukung oleh Tuple, seperti pengindeksan,\n",
    "printinfo(1,\"Hello\", 12,4,5,6, set({1,5,2,0,4})) \n"
   ]
  },
  {
   "cell_type": "markdown",
   "metadata": {},
   "source": [
    " \n",
    "   ##### **kwargs\n",
    "    parameter tersebut mengumpulkan semua argumen posisi yang  tidak cocok ke dalam sebuah dictonary {} \n",
    "    \n",
    "    dimana nama argument sebagai key dictionary dan value sebagai value dari dictionary \n",
    "    "
   ]
  },
  {
   "cell_type": "code",
   "execution_count": 25,
   "metadata": {},
   "outputs": [
    {
     "name": "stdout",
     "output_type": "stream",
     "text": [
      "{'name': 'Ketut', 'age': 40, 'job': 'dev'}\n"
     ]
    }
   ],
   "source": [
    "def print_arguments(**kwargs):\n",
    "    print(kwargs)\n",
    "\n",
    "print_arguments(name='Ketut', age=40, job='dev') # Prints {'name': 'Ketut', 'age': 40, 'job': 'dev'}"
   ]
  },
  {
   "cell_type": "code",
   "execution_count": 27,
   "metadata": {},
   "outputs": [],
   "source": [
    "def add(x, y, *args, **kwargs):\n",
    "    sum = x + y\n",
    "    for a in args:\n",
    "        sum += a\n",
    " \n",
    "    for k, v in kwargs.items():\n",
    "        sum += v\n",
    "    return sum\n"
   ]
  },
  {
   "cell_type": "code",
   "execution_count": 29,
   "metadata": {},
   "outputs": [
    {
     "name": "stdout",
     "output_type": "stream",
     "text": [
      "21\n"
     ]
    }
   ],
   "source": [
    "total = add(1, 2, *(3, 4), **{\"k1\": 5, \"k2\": 6})\n",
    "print(total)"
   ]
  },
  {
   "cell_type": "code",
   "execution_count": 31,
   "metadata": {},
   "outputs": [
    {
     "name": "stdout",
     "output_type": "stream",
     "text": [
      "Addition:  12\n",
      "Subtraction:  8\n",
      "Multiplication:  5.0\n",
      "Division:  20\n"
     ]
    }
   ],
   "source": [
    "def arithmetic(num1, num2):\n",
    "    add = num1 + num2\n",
    "    sub = num1 - num2\n",
    "    multiply = num1 * num2\n",
    "    division = num1 / num2\n",
    "    # return four values\n",
    "    return add, sub, multiply, division\n",
    "\n",
    "# read four return values in four variables\n",
    "a, b, c, d = arithmetic(10, 2)\n",
    "\n",
    "print(\"Addition: \", a)\n",
    "print(\"Subtraction: \", b)\n",
    "print(\"Multiplication: \", c)\n",
    "print(\"Division: \", d)"
   ]
  },
  {
   "cell_type": "markdown",
   "metadata": {},
   "source": [
    "#### The return Statement\n",
    "\n",
    "    Statement return [expression] menyebabkan kita keluar dari suatu fungsi, dan secara opsional meneruskan \n",
    "    ekspresi ke pemanggil. Pernyataan return tanpa argumen sama dengan return None.\n",
    "\n",
    "    Semua contoh di atas tidak mengembalikan nilai apa pun. Kalian dapat mengembalikan nilai \n",
    "    dari fungsi sebagai berikut:"
   ]
  },
  {
   "cell_type": "code",
   "execution_count": 32,
   "metadata": {},
   "outputs": [
    {
     "name": "stdout",
     "output_type": "stream",
     "text": [
      "Inside the function :  30\n",
      "Outside the function :  40\n"
     ]
    }
   ],
   "source": [
    "# Function definition is here\n",
    "def sum(arg1, arg2):\n",
    "    # Add both the parameters and return them.\"\n",
    "    total = arg1 + arg2  # total = 30 \n",
    "    total2 = total + arg1  # total2 = 30 + 10 = 40 \n",
    "    print(\"Inside the function : \", total) # 30 \n",
    "    return total2\n",
    "\n",
    "# Now you can call sum function\n",
    "total = sum(10, 20)\n",
    "print(\"Outside the function : \", total) "
   ]
  },
  {
   "cell_type": "markdown",
   "metadata": {},
   "source": [
    "#### Return Multiple Values\n",
    "\n",
    "Python memiliki kemampuan untuk mengembalikan beberapa nilai, dengan memisahkan nilai kembaliannya dengan koma . "
   ]
  },
  {
   "cell_type": "code",
   "execution_count": 34,
   "metadata": {},
   "outputs": [
    {
     "name": "stdout",
     "output_type": "stream",
     "text": [
      "(5, 1)\n",
      "<class 'tuple'>\n"
     ]
    }
   ],
   "source": [
    "# Return addition and subtraction in a tuple\n",
    "def func(a, b):\n",
    "    return a+b, a-b\n",
    "\n",
    "result = func(3, 2)\n",
    "\n",
    "print(result)\n",
    "print(type(result))"
   ]
  },
  {
   "cell_type": "code",
   "execution_count": 35,
   "metadata": {},
   "outputs": [
    {
     "name": "stdout",
     "output_type": "stream",
     "text": [
      "10\n"
     ]
    }
   ],
   "source": [
    "a , b, c = (10,20,30)\n",
    "print(a)"
   ]
  },
  {
   "cell_type": "code",
   "execution_count": 38,
   "metadata": {},
   "outputs": [
    {
     "name": "stdout",
     "output_type": "stream",
     "text": [
      "Masukan Nilai A :10\n",
      "<class 'str'>\n",
      "Isi dari X : 12\n",
      "Isi dari Y : 8\n"
     ]
    }
   ],
   "source": [
    "## Saat Anda mengembalikan beberapa nilai, \n",
    "## Python sebenarnya mengemasnya dalam satu Tuple dan mengembalikannya. \n",
    "# kita bisa melakukan unpack ke dalam variabel \n",
    "a = input(\"Masukan Nilai A :\")\n",
    "print(type(a))\n",
    "x, y = func(int(a),2)\n",
    "print(f\"Isi dari X : {x}\" )\n",
    "print(f\"Isi dari Y : {y}\" )"
   ]
  },
  {
   "cell_type": "markdown",
   "metadata": {},
   "source": [
    "#### Scope of Variables\n",
    "    Semua variabel dalam program mungkin tidak dapat diakses di semua lokasi dalam program tersebut. Tergantung di mana kalian mendeklarasikan variabel.\n",
    "\n",
    "    Scope of a variable menentukan aturan apakah program ditempat kalian dapat mengakses identifier tertentu. Ada dua cakupan dasar variabel di Python\n",
    "\n",
    "##### Global variables\n",
    "* Local variables\n",
    "* Global vs. Local variables\n",
    "\n",
    "    Variabel yang didefinisikan  di dalam badan fungsi adalah local scope, dan variabel yang ditentukan di luar adalah global scope.\n",
    "\n",
    "    Ini berarti bahwa variabel lokal hanya dapat diakses di dalam fungsi yang dideklarasikan, sedangkan variabel global dapat diakses di seluruh badan program oleh semua fungsi. Saat kalian memanggil sebuah fungsi, variabel yang dideklarasikan di dalamnya akan dimasukkan ke dalam scopenya. \n",
    "\n",
    "Berikut adalah contoh sederhana:"
   ]
  },
  {
   "cell_type": "code",
   "execution_count": 41,
   "metadata": {},
   "outputs": [
    {
     "name": "stdout",
     "output_type": "stream",
     "text": [
      "Inside the function :  30\n",
      "Outside the function global total :  30\n"
     ]
    }
   ],
   "source": [
    "# Global variabel \n",
    "total = 10 \n",
    "\n",
    "def  sum(arg1, arg2):\n",
    "    \" Add both the parameters and return them.\"\n",
    "    total = arg1 + arg2\n",
    "    print(\"Inside the function : \", total)\n",
    "    return total\n",
    "\n",
    "def min():\n",
    "    return \n",
    "     \n",
    "\n",
    "total = sum(10,20)\n",
    "print(\"Outside the function global total : \", total)\n"
   ]
  },
  {
   "cell_type": "code",
   "execution_count": 42,
   "metadata": {},
   "outputs": [
    {
     "name": "stdout",
     "output_type": "stream",
     "text": [
      "50\n",
      "40\n"
     ]
    }
   ],
   "source": [
    "jumlahKucing = 20\n",
    "\n",
    "def jumlahHewan():\n",
    "    jumlahAnjing = 30\n",
    "    return jumlahKucing + jumlahAnjing  # 50 \n",
    "\n",
    "def jumlahHewan2():\n",
    "    return jumlahKucing + jumlahKucing  # 40 \n",
    "\n",
    "hewan = jumlahHewan() \n",
    "print(hewan)\n",
    "hewan2= jumlahHewan2()\n",
    "print(hewan2)"
   ]
  },
  {
   "cell_type": "markdown",
   "metadata": {},
   "source": [
    "### Nested Functions\n",
    "    Fungsi bersarang adalah fungsi yang didefinisikan dalam fungsi lain. Mereka berguna saat melakukan \n",
    "    tugas kompleks beberapa kali dalam fungsi lain, untuk menghindari pengulangan atau duplikasi kode.\n"
   ]
  },
  {
   "cell_type": "code",
   "execution_count": 44,
   "metadata": {},
   "outputs": [
    {
     "name": "stdout",
     "output_type": "stream",
     "text": [
      "6\n"
     ]
    }
   ],
   "source": [
    "def outer(a, b):\n",
    "    def inner(c, d):\n",
    "        return c + d\n",
    "    return inner(a, b)\n",
    "\n",
    "result = outer(2, 4)\n",
    "\n",
    "print(result)"
   ]
  },
  {
   "cell_type": "markdown",
   "metadata": {},
   "source": [
    "#### Recursion\n",
    "    Fungsi rekursif adalah fungsi yang memanggil dirinya sendiri dan mengulangi perilakunya sampai beberapa kondisi terpenuhi untuk mengembalikan hasil.\n",
    "\n",
    "    Dalam contoh di bawah ini, countdown() adalah fungsi rekursif yang memanggil dirinya sendiri (recurse) ke countdown. Jika num adalah 0 atau negatif, ia mencetak kata \"Stop\". Jika tidak, ia mencetak num dan kemudian memanggil dirinya sendiri, meneruskan num-1 sebagai argumen."
   ]
  },
  {
   "cell_type": "code",
   "execution_count": 142,
   "metadata": {},
   "outputs": [],
   "source": [
    "def countdown(num):  \n",
    "    newnum = 0            # 3                # 2                        # 1  \n",
    "    if num <= 1: \n",
    "        print('Stop')\n",
    "        newnum = num \n",
    "        #print(newvar)\n",
    "        return newnum\n",
    "    else:\n",
    "        print(num)           # print 3             # 2                     # 1 \n",
    "        newnum = countdown(num-1)\n",
    "    \n",
    "    return newnum  #  num = 3-1 = 2      # num =  2 -1  = 1        num 1          0"
   ]
  },
  {
   "cell_type": "code",
   "execution_count": 143,
   "metadata": {},
   "outputs": [
    {
     "name": "stdout",
     "output_type": "stream",
     "text": [
      "4\n",
      "3\n",
      "2\n",
      "Stop\n",
      "1\n"
     ]
    }
   ],
   "source": [
    "hasilakhir = countdown(4)\n",
    "print(hasilakhir)"
   ]
  },
  {
   "cell_type": "markdown",
   "metadata": {},
   "source": [
    "#### Assigning Functions to Variables\n",
    "    Ketika Python menjalankan pernyataan def, itu membuat objek fungsi baru dan menetapkannya ke nama fungsi. \n",
    "    Anda dapat menetapkan nama yang berbeda untuk itu kapan saja dan menelepon melalui nama baru.\n",
    "\n",
    "    Sebagai contoh, mari kita berikan nama yang berbeda 'hai' ke fungsi 'halo' kita dan panggil \n",
    "    melalui nama barunya.\n"
   ]
  },
  {
   "cell_type": "code",
   "execution_count": 63,
   "metadata": {},
   "outputs": [
    {
     "name": "stdout",
     "output_type": "stream",
     "text": [
      "Hello, World!\n",
      "Hello, World!\n"
     ]
    }
   ],
   "source": [
    "def hello():\n",
    "    print('Hello, World!')\n",
    "  \n",
    "hi = hello\n",
    "hi()\n",
    "hello()\n",
    "# Prints Hello, World!"
   ]
  },
  {
   "cell_type": "markdown",
   "metadata": {},
   "source": [
    "### dictionary of functions \n",
    "    Anda dapat menggunakan fitur ini untuk mengimplementasikan tabel lompatan.\n",
    "    Jump table adalah dictionary fungsi yang akan dipanggil sesuai permintaan."
   ]
  },
  {
   "cell_type": "code",
   "execution_count": 64,
   "metadata": {},
   "outputs": [
    {
     "name": "stdout",
     "output_type": "stream",
     "text": [
      "9\n",
      "27\n"
     ]
    }
   ],
   "source": [
    "# You can use this feature to implement jump table.\n",
    "# Jump table is a dictionary of functions to be called on demand.\n",
    "def findSquare(x):\n",
    "    return x ** 2\n",
    "\n",
    "def findCube(x):\n",
    "    return x ** 3\n",
    "\n",
    "# Create a dictionary of functions\n",
    "exponent = {'square': findSquare, 'cube': findCube}\n",
    "\n",
    "print(exponent['square'](3))\n",
    "# Prints 9\n",
    "print(exponent['cube'](3))\n",
    "# Prints 27"
   ]
  },
  {
   "cell_type": "markdown",
   "metadata": {},
   "source": [
    "#### Python Function Executes at Runtime\n",
    "    Karena Python memperlakukan def sebagai pernyataan yang dapat dieksekusi, itu bisa muncul di mana saja pernyataan normal bisa.\n",
    "\n",
    "    Misalnya, Anda dapat menyarangkan fungsi di dalam pernyataan if untuk memilih di antara definisi alternatif."
   ]
  },
  {
   "cell_type": "code",
   "execution_count": 68,
   "metadata": {},
   "outputs": [
    {
     "name": "stdout",
     "output_type": "stream",
     "text": [
      "Hello, Universe!\n"
     ]
    }
   ],
   "source": [
    "x = 0\n",
    "if x:\n",
    "    def hello():\n",
    "        print('Hello, World!')\n",
    "else:\n",
    "    def hello():\n",
    "        print('Hello, Universe!')\n",
    "\n",
    "hello()\n",
    "# Prints Hello, Universe!"
   ]
  },
  {
   "cell_type": "markdown",
   "metadata": {},
   "source": [
    "#### The Anonymous Functions\n",
    "    Functions ini disebut anonymous karena tidak dideklarasikan dengan cara standar dengan menggunakan \n",
    "    keyword def. Kalian dapat menggunakan keyword lambda untuk membuat anonymous functions.\n",
    "\n",
    "* Lambda dapat mengambil berapapun argumen tetapi hanya mengembalikan satu nilai dalam bentuk expression. \n",
    "  Lambda tidak boleh berisi commands atau multiple expressions.\n",
    "* Anonymous function tidak bisa dipanggil langsung melalui print karena lambda memerlukan expression\n",
    "* Lambda functions memiliki namespace local sendiri dan tidak dapat mengakses variabel selain yang ada di daftar \n",
    "  parameternya dan yang ada di namespace global.\n",
    "\n",
    "Syntax dari lambda functions mengandung hanya single statement, seperti dibawah ini:\n",
    "\n",
    "    lambda [arg1 [,arg2,.....argn]]:expression\n",
    "\n",
    "Berikut adalah contoh untuk menunjukkan cara kerja bentuk fungsi lambda:\n",
    "\n"
   ]
  },
  {
   "cell_type": "code",
   "execution_count": 70,
   "metadata": {},
   "outputs": [
    {
     "name": "stdout",
     "output_type": "stream",
     "text": [
      "Value of total :  30\n",
      "Value of total :  30\n"
     ]
    }
   ],
   "source": [
    "# Function definition is here\n",
    "sum = lambda arg1 , arg2 : arg1 + arg2; \n",
    "\n",
    "def sum1(arg1, arg2):\n",
    "    return arg1 + arg2 \n",
    "\n",
    "\n",
    "# Now you can call sum as a function\n",
    "print(\"Value of total : \",sum(10,20))\n",
    "print(\"Value of total : \",sum1(10,20))\n"
   ]
  },
  {
   "cell_type": "markdown",
   "metadata": {},
   "source": [
    "#### Docstring \n",
    "\n",
    "    Anda dapat melampirkan dokumentasi ke definisi fungsi dengan menyertakan literal string \n",
    "    tepat setelah header fungsi. Docstrings biasanya dikutip tiga kali untuk memungkinkan deskripsi multi-baris.\n",
    "    "
   ]
  },
  {
   "cell_type": "code",
   "execution_count": 74,
   "metadata": {},
   "outputs": [],
   "source": [
    "def hello():\n",
    "    \"\"\"This function prints\n",
    "       message on the screen\"\"\"  \n",
    "    print('Hello, World!')\n",
    "    "
   ]
  },
  {
   "cell_type": "code",
   "execution_count": 75,
   "metadata": {},
   "outputs": [
    {
     "name": "stdout",
     "output_type": "stream",
     "text": [
      "Help on function hello in module __main__:\n",
      "\n",
      "hello()\n",
      "    This function prints\n",
      "    message on the screen\n",
      "\n"
     ]
    }
   ],
   "source": [
    "# Print docstring in rich format\n",
    "help(hello)"
   ]
  },
  {
   "cell_type": "code",
   "execution_count": 76,
   "metadata": {},
   "outputs": [
    {
     "name": "stdout",
     "output_type": "stream",
     "text": [
      "This function prints\n",
      "       message on the screen\n"
     ]
    }
   ],
   "source": [
    "# Print docstring in a raw format\n",
    "print(hello.__doc__)"
   ]
  },
  {
   "cell_type": "markdown",
   "metadata": {},
   "source": [
    "#### Latihan membuat CRUD \n"
   ]
  },
  {
   "cell_type": "code",
   "execution_count": null,
   "metadata": {},
   "outputs": [],
   "source": [
    "# Variabel global untuk menyimpan data Buku\n",
    "buku = []\n",
    "\n",
    "# fungsi untuk menampilkan semua data\n",
    "def show_data():\n",
    "    if len(buku) <= 0:\n",
    "        print (\"BELUM ADA DATA\")\n",
    "    else:\n",
    "        for indeks in range(len(buku)):\n",
    "            print (\"[%d] %s\" % (indeks, buku[indeks]))\n",
    "\n",
    "\n",
    "# fungsi untuk menambah data\n",
    "def insert_data():\n",
    "    buku_baru = input(\"Judul Buku: \")\n",
    "    buku.append(buku_baru)\n",
    "\n",
    "# fungsi untuk edit data\n",
    "def edit_data():\n",
    "    show_data()\n",
    "    indeks = input(\"Inputkan ID buku: \")\n",
    "    if(int(indeks) > len(buku)):\n",
    "        print(\"ID salah\")\n",
    "    else:\n",
    "        judul_baru = input(\"Judul baru: \")\n",
    "        buku[int(indeks)] = judul_baru\n",
    "\n",
    "# fungsi untuk menhapus data\n",
    "def delete_data():\n",
    "    show_data()\n",
    "    indeks = input(\"Inputkan ID buku: \")\n",
    "    if(int(indeks) > len(buku)):\n",
    "        print (\"ID salah\")\n",
    "    else:\n",
    "        buku.remove(buku[int(indeks)])\n",
    "\n",
    "# fungsi untuk menampilkan menu\n",
    "def show_menu():\n",
    "    print (\"\\n\")\n",
    "    print (\"----------- MENU ----------\")\n",
    "    print (\"[1] Show Data\")\n",
    "    print (\"[2] Insert Data\")\n",
    "    print (\"[3] Edit Data\")\n",
    "    print (\"[4] Delete Data\")\n",
    "    print (\"[5] Exit\")\n",
    "    \n",
    "    menu =input(\"PILIH MENU> \")\n",
    "    print (\"\\n\")\n",
    "\n",
    "    if int(menu) == 1:\n",
    "        show_data()\n",
    "    elif int(menu) == 2:\n",
    "        insert_data()\n",
    "    elif int(menu) == 3:\n",
    "        edit_data()\n",
    "    elif int(menu) == 4:\n",
    "        delete_data()\n",
    "    elif int(menu) == 5:\n",
    "        exit()\n",
    "    else:\n",
    "        print (\"Salah pilih!\")"
   ]
  },
  {
   "cell_type": "code",
   "execution_count": null,
   "metadata": {},
   "outputs": [],
   "source": [
    "show_menu()\n"
   ]
  },
  {
   "cell_type": "code",
   "execution_count": 77,
   "metadata": {},
   "outputs": [],
   "source": [
    "def formatrupiah(uang):\n",
    "    y = str(uang)\n",
    "    if len(y) <= 3 :\n",
    "        return 'Rp ' + y     ## Rp. 100\n",
    "    else :\n",
    "        p = y[-3:]\n",
    "        q = y[:-3]\n",
    "        return   formatrupiah(q) + '.' + p\n",
    "        print ('Rp ' +  formatrupiah(q) + '.' + p)"
   ]
  },
  {
   "cell_type": "code",
   "execution_count": 78,
   "metadata": {},
   "outputs": [
    {
     "data": {
      "text/plain": [
       "'Rp 100.000'"
      ]
     },
     "execution_count": 78,
     "metadata": {},
     "output_type": "execute_result"
    }
   ],
   "source": [
    "formatrupiah(100000)"
   ]
  },
  {
   "cell_type": "markdown",
   "metadata": {},
   "source": [
    "#### Buatlah suatu fungsi numerik / angka menjadi huruf  \n",
    "\n",
    "contoh :\n",
    "pada saat di input 1000 \n",
    "maka akan mencetak :  **\"seribu\"** \n",
    "\n",
    "Input angka ? 100000 \n",
    "maka akan mencetak :  **\"seratus ribu\"** \n",
    "\n",
    "    Gunakan Function Recursion \n",
    "    Gunakan Operator Pembagi untuk mendapatkan bilang pertama ( Contoh 87 :  87 / 10 = 8 ) \n",
    "    Dan gunakan Operator Modulus untuk mendapatkan bilang akhir  ( Contoh  87  :  87 % 10 = 7 ) \n"
   ]
  },
  {
   "cell_type": "code",
   "execution_count": null,
   "metadata": {},
   "outputs": [],
   "source": []
  },
  {
   "cell_type": "code",
   "execution_count": null,
   "metadata": {},
   "outputs": [],
   "source": []
  },
  {
   "cell_type": "code",
   "execution_count": 144,
   "metadata": {},
   "outputs": [
    {
     "name": "stdout",
     "output_type": "stream",
     "text": [
      "Terbilang : Delapan Puluh Tujuh\n"
     ]
    }
   ],
   "source": [
    "def Terbilang(bil):\n",
    "    angka = [\"\",\"Satu\",\"Dua\",\"Tiga\",\"Empat\",\"Lima\",\"Enam\",\n",
    "             \"Tujuh\",\"Delapan\",\"Sembilan\",\"Sepuluh\",\"Sebelas\"]\n",
    "    Hasil = \" \"\n",
    "    n = int(bil)\n",
    "    if n>= 0 and n <= 11:\n",
    "        Hasil = angka[n]\n",
    "    elif n <20:\n",
    "        Hasil = Terbilang (n-10) + \" Belas \"\n",
    "    elif n <100:\n",
    "        Hasil = Terbilang (n/10) + \" Puluh \" + Terbilang (n%10)\n",
    "    elif n <200:\n",
    "        Hasil = \" Seratus \" + Terbilang (n-100)\n",
    "    elif n <1000:\n",
    "        Hasil = Terbilang (n/100) + \" Ratus \" + Terbilang (n%100)\n",
    "    elif n <2000:\n",
    "        Hasil = \" Seribu \" + Terbilang (n-1000)\n",
    "    elif n <1000000:\n",
    "        Hasil = Terbilang (n/1000) + \" Ribu \" + Terbilang (n%1000)\n",
    "    elif n <1000000000:\n",
    "        Hasil = Terbilang (n/1000000) + \" Juta \" + Terbilang (n%1000000)\n",
    "    elif n <1000000000000:\n",
    "        Hasil = Terbilang (n/1000000000) + \" Milyar \" + Terbilang (n%1000000000)\n",
    "    elif n <1000000000000000:\n",
    "        Hasil = Terbilang (n/1000000000000) + \" Triliyun \" + Terbilang (n%1000000000000)\n",
    "    else:\n",
    "        Hasil = \"Angka Hanya sama Triliyun\"\n",
    "\n",
    "    return Hasil\n",
    "\n",
    "\n",
    "\n",
    "huruf = Terbilang(\"87\")\n",
    "print(f\"Terbilang : {huruf}\")"
   ]
  },
  {
   "cell_type": "markdown",
   "metadata": {},
   "source": [
    "### Python Modules\n",
    "\n",
    "    Ada tiga cara berbeda untuk mendefinisikan module dengan Python:\n",
    "\n",
    "* Module dapat ditulis dengan bahasa Python itu sendiri.\n",
    "* Module dapat ditulis dalam C dan di-load secara dinamis pada saat run-time, seperti modul  (ekspresi reguler).\n",
    "* Built-in module secara intrinsik terdapat dalam interpreter, seperti modul itertools.\n",
    "\n",
    "    Isi modul diakses dengan cara yang sama dalam ketiga kasus diatas: dengan import statement.\n",
    "    \n",
    "    Di sini, fokusnya sebagian besar ada pada modul yang ditulis dengan Python. Hal yang menguntungkan tentang \n",
    "    modul yang ditulis dengan Python adalah module sangat mudah dibuat. Yang perlu kalian lakukan adalah membuat \n",
    "    file yang berisi kode Python dan kemudian memberi nama file dengan ekstensi .py.\n",
    "\n",
    "    Misalnya, kalian buat sebuah file bernama mod.py dengan isi sebagai berikut:\n",
    "    \n",
    "    Menggunakan Visual Studio / Editor lain \n",
    "    "
   ]
  },
  {
   "cell_type": "code",
   "execution_count": null,
   "metadata": {},
   "outputs": [],
   "source": [
    "# mod.py \n",
    "s = \"Hacktiv8-PTP Python For Data Science\"\n",
    "a = [100, 200, 300]\n",
    "\n",
    "def foo(arg):\n",
    "    print(f'arg = {arg}')\n",
    "\n",
    "class Foo:\n",
    "    pass\n"
   ]
  },
  {
   "cell_type": "markdown",
   "metadata": {},
   "source": [
    "mod.py \n",
    "![alt text](https://i.ibb.co/RzWjz5n/Screen-Shot-2021-08-29-at-8-48-27-PM.png \"mod.py\")"
   ]
  },
  {
   "cell_type": "markdown",
   "metadata": {},
   "source": [
    "python intrepter \n",
    "![alt text](https://i.ibb.co/0MnJmyf/Screen-Shot-2021-08-29-at-8-48-19-PM.png \"python\")\n",
    "\n"
   ]
  },
  {
   "cell_type": "code",
   "execution_count": null,
   "metadata": {},
   "outputs": [],
   "source": []
  },
  {
   "cell_type": "markdown",
   "metadata": {},
   "source": [
    "    Beberapa objek didefinisikan di mod.py:\n",
    "\n",
    "* s (a string)\n",
    "* a (a list)\n",
    "* foo() (a function)\n",
    "* Foo (a class)\n",
    "\n",
    "    Dengan asumsi mod.py berada di lokasi yang sesuai, yang akan segera kalian pelajari lebih lanjut, objek ini dapat diakses dengan mengimpor modul dengan cara sebagai berikut:\n",
    "\n"
   ]
  },
  {
   "cell_type": "code",
   "execution_count": null,
   "metadata": {},
   "outputs": [],
   "source": [
    ">>> import mod\n",
    ">>> print(mod.s)\n",
    "Hacktiv8-PTP Python For Data Science\n",
    ">>> mod.a\n",
    "[100, 200, 300]\n",
    ">>> mod.foo(['quux', 'corge', 'grault'])\n",
    "arg = ['quux', 'corge', 'grault']\n",
    ">>> x = mod.Foo()\n",
    ">>> x\n",
    "<mod.Foo object at 0x03C181F0>"
   ]
  },
  {
   "cell_type": "markdown",
   "metadata": {},
   "source": [
    "#### Step : \n"
   ]
  },
  {
   "cell_type": "markdown",
   "metadata": {},
   "source": [
    "#### The Module Search Path\n",
    "\n",
    "Melanjutkan contoh di atas, mari kita lihat apa yang terjadi ketika Python menjalankan pernyataan:\n",
    "\n",
    "import mod\n",
    "\n",
    "Ketika interpreter menjalankan pernyataan import di atas, ia mencari mod.py dalam daftar direktori dari sumber berikut:\n",
    "\n",
    "* Direktori tempat skrip input dijalankan atau direktori saat ini jika interpreter dijalankan secara interaktif\n",
    "* The list of directories contained in the PYTHONPATH environment variable, if it is set. (The format for PYTHONPATH is OS-dependent but should mimic the PATH environment variable.)\n",
    "* Daftar direktori yang terdapat dalam variabel PYTHONPATH environment. (Format untuk PYTHONPATH bergantung pada OS tetapi harus sama dengan variabel PATH environment.)\n",
    "* Daftar direktori yang bergantung pada instalasi yang dikonfigurasi pada saat Python diinstal\n",
    "Hasil dari search path dapat diakses di variabel Python sys.path, yang diperoleh dari modul bernama sys:"
   ]
  },
  {
   "cell_type": "code",
   "execution_count": null,
   "metadata": {},
   "outputs": [],
   "source": [
    ">>> import sys\n",
    ">>> sys.path\n",
    "\n",
    "['', '/usr/local/anaconda3/lib/python37.zip', \n",
    " '/usr/local/anaconda3/lib/python3.7', \n",
    " '/usr/local/anaconda3/lib/python3.7/lib-dynload', \n",
    " '/usr/local/anaconda3/lib/python3.7/site-packages', \n",
    " '/usr/local/anaconda3/lib/python3.7/site-packages/aeosa']"
   ]
  },
  {
   "cell_type": "markdown",
   "metadata": {},
   "source": [
    "Jadi, untuk memastikan modul kalian ditemukan, kalian perlu melakukan salah satu hal berikut:\n",
    "\n",
    "* Letakkan mod.py di direktori tempat skrip input berada atau direktori saat ini pada terminal\n",
    "* Modifikasi PYTHONPATH environment variable agar memuat direktori tempat mod.py berada sebelum memulai interpreter\n",
    "* Atau: Letakkan mod.py di salah satu direktori yang sudah ada di variabel PYTHONPATH\n",
    "* Letakkan mod.py di salah satu direktori yang bergantung pada instalasi, yang mungkin kalian miliki atau tidak memiliki write-access, tergantung pada OS\n",
    "\n",
    "Sebenarnya ada satu opsi tambahan: kalian dapat meletakkan file modul di direktori pilihan kalian dan kemudian memodifikasi sys.path pada saat run-time sehingga berisi direktori tersebut. Misalnya, dalam kasus ini, kalian dapat meletakkan mod.py di direktori /Users/ketut/Desktop/H8Py dan kemudian jalankan statements berikut:\n",
    "\n"
   ]
  },
  {
   "cell_type": "code",
   "execution_count": null,
   "metadata": {},
   "outputs": [],
   "source": [
    ">>> sys.path.append(r'/Users/ketut/Desktop/H8P4DS')\n",
    ">>> sys.path\n",
    "\n",
    "['', '/usr/local/anaconda3/lib/python37.zip', '/usr/local/anaconda3/lib/python3.7', '/usr/local/anaconda3/lib/python3.7/lib-dynload', '/usr/local/anaconda3/lib/python3.7/site-packages', '/usr/local/anaconda3/lib/python3.7/site-packages/aeosa', '/usr/local/', '/Users/ardhiraka/Desktop/H8Py']\n",
    "\n",
    "import mod"
   ]
  },
  {
   "cell_type": "markdown",
   "metadata": {},
   "source": [
    "Setelah modul berhasil diimpor, kalian dapat menentukan lokasi di mana modul itu ditemukan dengan atribut file:"
   ]
  },
  {
   "cell_type": "code",
   "execution_count": null,
   "metadata": {},
   "outputs": [],
   "source": [
    ">>> import mod\n",
    ">>> mod.__file__\n",
    "'/Users/ardhiraka/Desktop/H8Py'\n",
    "\n",
    ">>> import re\n",
    ">>> re.__file__\n",
    "'/usr/local/anaconda3/lib/python3.7/re.py'\n"
   ]
  },
  {
   "cell_type": "markdown",
   "metadata": {},
   "source": [
    "The import Statement\n",
    "Isi modul tersedia untuk pemanggil dengan import statement. Import statement memiliki banyak bentuk berbeda, seperti di bawah ini.\n",
    "\n",
    "import <module_name>\n",
    "\n",
    "Bentuk paling sederhana adalah yang sudah ditunjukkan di atas:\n",
    "\n",
    "import <module_name>\n",
    "\n",
    "Dari pemanggil, objek dalam modul hanya dapat diakses jika diawali dengan <module_name> menggunakan notasi titik, seperti yang diilustrasikan di bawah."
   ]
  },
  {
   "cell_type": "code",
   "execution_count": null,
   "metadata": {},
   "outputs": [],
   "source": [
    ">>> import mod\n",
    ">>> mod\n",
    "<module 'mod' from '/Users/ketut/Desktop/H8Py'>"
   ]
  },
  {
   "cell_type": "markdown",
   "metadata": {},
   "source": [
    "Tanpa notasi titik, s dan foo akan mengembalikan error.\n",
    "\n"
   ]
  },
  {
   "cell_type": "code",
   "execution_count": null,
   "metadata": {},
   "outputs": [],
   "source": [
    ">>> s\n",
    "NameError: name 's' is not defined\n",
    ">>> foo('quux')\n",
    "NameError: name 'foo' is not defined"
   ]
  },
  {
   "cell_type": "markdown",
   "metadata": {},
   "source": [
    "Untuk diakses dalam konteks lokal, nama objek yang ditentukan dalam modul harus diawali dengan mod:\n",
    "\n"
   ]
  },
  {
   "cell_type": "code",
   "execution_count": null,
   "metadata": {},
   "outputs": [],
   "source": [
    ">>> mod.s\n",
    "'Hacktiv8-PTP Python For Data Science'\n",
    ">>> mod.foo('quux')\n",
    "arg = quux"
   ]
  },
  {
   "cell_type": "markdown",
   "metadata": {},
   "source": [
    "Beberapa modul yang dipisahkan koma dapat dipanggil dalam single import statement:\n",
    "\n",
    "import <module_name>[, <module_name> ...]\n",
    "\n",
    "from <module_name> import <name(s)>\n",
    "\n",
    "Bentuk alternatif dari import statement memungkinkan objek individu dari modul untuk diimpor langsung ke tabel simbol pemanggil:\n",
    "\n",
    "from <module_name> import <name(s)>\n",
    "\n",
    "Setelah menjalankan pernyataan di atas, <name(s)> dapat dirujuk di environment pemanggil tanpa awalan <module_name>:\n",
    "\n"
   ]
  },
  {
   "cell_type": "code",
   "execution_count": null,
   "metadata": {},
   "outputs": [],
   "source": [
    ">>> from mod import s, foo\n",
    ">>> s\n",
    "'Hacktiv8-PTP Python For Data Science'\n",
    ">>> foo('quux')\n",
    "arg = quux\n",
    "\n",
    ">>> from mod import Foo\n",
    ">>> x = Foo()\n",
    ">>> x\n",
    "<mod.Foo object at 0x02E3AD50>"
   ]
  },
  {
   "cell_type": "markdown",
   "metadata": {},
   "source": [
    "Karena bentuk impor ini menempatkan nama objek langsung ke tabel simbol pemanggil, objek apa pun yang sudah ada dengan nama yang sama akan ditimpa:\n",
    "\n"
   ]
  },
  {
   "cell_type": "code",
   "execution_count": null,
   "metadata": {},
   "outputs": [],
   "source": [
    ">>> a = ['foo', 'bar', 'baz']\n",
    ">>> a\n",
    "['foo', 'bar', 'baz']\n",
    "\n",
    ">>> from mod import a\n",
    ">>> a\n",
    "[100, 200, 300]"
   ]
  },
  {
   "cell_type": "markdown",
   "metadata": {},
   "source": [
    "It is even possible to indiscriminately import everything from a module at one fell swoop:\n",
    "\n",
    "Bahkan memungkinan untuk mengimpor semuanya secara langsung dari modul dalam satu command:\n",
    "\n",
    "from <module_name> import *\n",
    "\n",
    "Hal ini akan menempatkan nama semua objek dari <module_name> ke dalam tabel simbol lokal, dengan pengecualian yang dimulai dengan karakter garis bawah (_).\n",
    "\n",
    "Sebagai contoh:\n",
    "\n"
   ]
  },
  {
   "cell_type": "code",
   "execution_count": null,
   "metadata": {},
   "outputs": [],
   "source": [
    ">>> from mod import *\n",
    ">>> s\n",
    "'Hacktiv8-PTP Python For Data Science'\n",
    ">>> a\n",
    "[100, 200, 300]\n",
    ">>> foo\n",
    "<function foo at 0x03B449C0>\n",
    ">>> Foo\n",
    "<class 'mod.Foo'>"
   ]
  },
  {
   "cell_type": "markdown",
   "metadata": {},
   "source": [
    "hal ini tidak selalu direkomendasikan dalam kode produksi skala besar. Dan sedikit berbahaya karena kalian memasukkan nama ke tabel simbol lokal secara massal. Kecuali jika kalian mengenal object kalian semua dengan baik dan yakin tidak akan ada konflik, kalian memiliki peluang yang cukup besar untuk menimpa nama yang sudah ada secara tidak sengaja. Namun, sintaksis ini cukup berguna ketika Anda hanya menggunakan interpreter interaktif, untuk tujuan pengujian atau discovery , karena sintaks ini dengan cepat memberi kalian akses ke semua yang ditawarkan modul tanpa banyak mengetik.\n",
    "\n",
    "from <module_name> import <name> as <alt_name>\n",
    "\n",
    "Dimungkinkan juga untuk mengimpor objek individu tetapi memasukkannya ke dalam tabel simbol lokal dengan nama alternatif:\n",
    "\n",
    "from <module_name> import <name> as <alt_name>[, <name> as <alt_name> …]\n",
    "\n",
    "Hal ini memungkinkan untuk menempatkan nama secara langsung ke tabel simbol lokal tetapi menghindari konflik dengan nama yang sudah ada sebelumnya:"
   ]
  },
  {
   "cell_type": "code",
   "execution_count": null,
   "metadata": {},
   "outputs": [],
   "source": [
    ">>> s = 'foo'\n",
    ">>> a = ['foo', 'bar', 'baz']\n",
    "\n",
    ">>> from mod import s as string, a as alist\n",
    ">>> s\n",
    "'foo'\n",
    ">>> string\n",
    "'Hacktiv8-PTP Python For Data Science'\n",
    ">>> a\n",
    "['foo', 'bar', 'baz']\n",
    ">>> alist\n",
    "[100, 200, 300]"
   ]
  },
  {
   "cell_type": "markdown",
   "metadata": {},
   "source": [
    "import <module_name> as <alt_name>\n",
    "\n",
    "Kalian juga dapat mengimpor seluruh modul dengan nama alternatif:\n",
    "\n",
    "import <module_name> as <alt_name>"
   ]
  },
  {
   "cell_type": "code",
   "execution_count": null,
   "metadata": {},
   "outputs": [],
   "source": [
    ">>> import mod as my_module\n",
    ">>> my_module.a\n",
    "[100, 200, 300]\n",
    ">>> my_module.foo('qux')\n",
    "arg = qux"
   ]
  },
  {
   "cell_type": "markdown",
   "metadata": {},
   "source": [
    "Isi modul dapat diimpor dari dalam definisi fungsi. Dalam hal ini, impor tidak akan terjadi hingga fungsinya dipanggil:\n",
    "\n"
   ]
  },
  {
   "cell_type": "code",
   "execution_count": null,
   "metadata": {},
   "outputs": [],
   "source": [
    ">>> def bar():\n",
    "...     from mod import foo\n",
    "...     foo('corge')\n",
    "...\n",
    "\n",
    ">>> bar()\n",
    "arg = corge"
   ]
  },
  {
   "cell_type": "markdown",
   "metadata": {},
   "source": [
    "Namun, Python 3 tidak mengizinkan sintaks impor * secara sembarangan dari dalam suatu fungsi:\n",
    "\n"
   ]
  },
  {
   "cell_type": "code",
   "execution_count": null,
   "metadata": {},
   "outputs": [],
   "source": [
    ">>> def bar():\n",
    "...     from mod import *\n",
    "...\n",
    "SyntaxError: import * only allowed at module level"
   ]
  },
  {
   "cell_type": "markdown",
   "metadata": {},
   "source": [
    "Terakhir, try statement dengan klausa except ImportError dapat digunakan untuk melindungi dari upaya impor yang gagal:\n",
    "\n"
   ]
  },
  {
   "cell_type": "code",
   "execution_count": null,
   "metadata": {},
   "outputs": [],
   "source": [
    ">>> try:\n",
    "...     # Non-existent module\n",
    "...     import baz\n",
    "... except ImportError:\n",
    "...     print('Module not found')\n",
    "...\n",
    "\n",
    "Module not found\n",
    ">>> try:\n",
    "...     # Existing module, but non-existent object\n",
    "...     from mod import baz\n",
    "... except ImportError:\n",
    "...     print('Object not found in module')\n",
    "...\n",
    "\n",
    "Object not found in module"
   ]
  },
  {
   "cell_type": "markdown",
   "metadata": {},
   "source": [
    "The dir() Function\n",
    "Fungsi built-in dir() mengembalikan daftar nama yang ditentukan dalam namespace. Tanpa argumen, dir() menghasilkan daftar nama yang diurutkan menurut abjad dalam tabel simbol lokal saat ini:\n",
    "\n"
   ]
  },
  {
   "cell_type": "code",
   "execution_count": null,
   "metadata": {},
   "outputs": [],
   "source": [
    ">>> dir()\n",
    "['__annotations__', '__builtins__', '__doc__', '__loader__', '__name__',\n",
    "'__package__', '__spec__']\n",
    "\n",
    ">>> qux = [1, 2, 3, 4, 5]\n",
    ">>> dir()\n",
    "['__annotations__', '__builtins__', '__doc__', '__loader__', '__name__',\n",
    "'__package__', '__spec__', 'qux']\n",
    "\n",
    ">>> class Bar():\n",
    "...     pass\n",
    "...\n",
    ">>> x = Bar()\n",
    ">>> dir()\n",
    "['Bar', '__annotations__', '__builtins__', '__doc__', '__loader__', '__name__',\n",
    "'__package__', '__spec__', 'qux', 'x']"
   ]
  },
  {
   "cell_type": "markdown",
   "metadata": {},
   "source": [
    "Perhatikan bagaimana panggilan pertama ke dir() di atas mencantumkan beberapa nama yang ditentukan secara otomatis dan sudah ada di namespace saat penerjemah dimulai. Saat nama baru didefinisikan (qux, Bar, x), mereka muncul pada pemanggilan dir() berikutnya.\n",
    "\n",
    "Ini dapat berguna untuk mengidentifikasi apa yang sebenarnya telah ditambahkan ke namespace dengan import statement:"
   ]
  },
  {
   "cell_type": "code",
   "execution_count": null,
   "metadata": {},
   "outputs": [],
   "source": [
    ">>> dir()\n",
    "['__annotations__', '__builtins__', '__doc__', '__loader__', '__name__',\n",
    "'__package__', '__spec__']\n",
    "\n",
    ">>> import mod\n",
    ">>> dir()\n",
    "['__annotations__', '__builtins__', '__doc__', '__loader__', '__name__',\n",
    "'__package__', '__spec__', 'mod']\n",
    ">>> mod.s\n",
    "'Hacktiv8-PTP Python For Data Science'\n",
    ">>> mod.foo([1, 2, 3])\n",
    "arg = [1, 2, 3]\n",
    "\n",
    ">>> from mod import a, Foo\n",
    ">>> dir()\n",
    "['Foo', '__annotations__', '__builtins__', '__doc__', '__loader__', '__name__',\n",
    "'__package__', '__spec__', 'a', 'mod']\n",
    ">>> a\n",
    "[100, 200, 300]\n",
    ">>> x = Foo()\n",
    ">>> x\n",
    "<mod.Foo object at 0x002EAD50>\n",
    "\n",
    ">>> from mod import s as string\n",
    ">>> dir()\n",
    "['Foo', '__annotations__', '__builtins__', '__doc__', '__loader__', '__name__',\n",
    "'__package__', '__spec__', 'a', 'mod', 'string', 'x']\n",
    ">>> string\n",
    "'Hacktiv8-PTP Python For Data Science'"
   ]
  },
  {
   "cell_type": "markdown",
   "metadata": {},
   "source": [
    "Ketika diberi argumen yaitu nama modul, dir() mencantumkan nama yang ditentukan dalam modul:\n",
    "\n"
   ]
  },
  {
   "cell_type": "code",
   "execution_count": null,
   "metadata": {},
   "outputs": [],
   "source": [
    ">>> import mod\n",
    ">>> dir(mod)\n",
    "['Foo', '__builtins__', '__cached__', '__doc__', '__file__', '__loader__',\n",
    "'__name__', '__package__', '__spec__', 'a', 'foo', 's']\n",
    ">>> dir()\n",
    "['__annotations__', '__builtins__', '__doc__', '__loader__', '__name__',\n",
    "'__package__', '__spec__']\n",
    ">>> from mod import *\n",
    ">>> dir()\n",
    "['Foo', '__annotations__', '__builtins__', '__doc__', '__loader__', '__name__',\n",
    "'__package__', '__spec__', 'a', 'foo', 's']"
   ]
  },
  {
   "cell_type": "markdown",
   "metadata": {},
   "source": [
    "Executing a Module as a Script\n",
    "File .py apa pun yang berisi modul pada dasarnya juga merupakan skrip Python, dan dapat dijalankan.\n",
    "\n",
    "Di sini sekali lagi adalah mod.py seperti yang didefinisikan di atas:\n",
    "\n",
    "mod.py"
   ]
  },
  {
   "cell_type": "code",
   "execution_count": null,
   "metadata": {},
   "outputs": [],
   "source": [
    "s = \"Hacktiv8-PTP Python For Data Science\"\n",
    "a = [100, 200, 300]\n",
    "\n",
    "def foo(arg):\n",
    "    print(f'arg = {arg}')\n",
    "\n",
    "class Foo:\n",
    "    pass"
   ]
  },
  {
   "cell_type": "markdown",
   "metadata": {},
   "source": [
    "Dapat dijalankan sebagai skrip:\n",
    "\n"
   ]
  },
  {
   "cell_type": "markdown",
   "metadata": {},
   "source": [
    "base) ardhiraka@rakas-Macbook-Very-Pro ~ %python mod.py\n",
    "(base) ardhiraka@rakas-Macbook-Very-Pro ~ %"
   ]
  },
  {
   "cell_type": "markdown",
   "metadata": {},
   "source": [
    "Tidak ada errors, namun module tidak melakukan apa-apa, dan tidak menghasilkan keluaran apa pun.\n",
    "\n",
    "Mari kita ubah modul Python di atas sehingga menghasilkan beberapa keluaran saat dijalankan sebagai skrip:\n",
    "\n",
    "mod.py\n",
    "\n"
   ]
  },
  {
   "cell_type": "code",
   "execution_count": null,
   "metadata": {},
   "outputs": [],
   "source": [
    "s = \"Hacktiv8-PTP Python For Data Science\"\n",
    "a = [100, 200, 300]\n",
    "\n",
    "def foo(arg):\n",
    "    print(f'arg = {arg}')\n",
    "\n",
    "class Foo:\n",
    "    pass\n",
    "\n",
    "print(s)\n",
    "print(a)\n",
    "foo('quux')\n",
    "x = Foo()\n",
    "print(x)\n"
   ]
  },
  {
   "cell_type": "markdown",
   "metadata": {},
   "source": [
    "Sekarang seharusnya sedikit lebih menarik:\n",
    "\n"
   ]
  },
  {
   "cell_type": "markdown",
   "metadata": {},
   "source": [
    "(base) ardhiraka@rakas-Macbook-Very-Pro ~ % mod.py\n",
    "Hacktiv8-PTP Python For Data Science\n",
    "[100, 200, 300]\n",
    "arg = quux\n",
    "<__main__.Foo object at 0x02F101D0>\n"
   ]
  },
  {
   "cell_type": "markdown",
   "metadata": {},
   "source": [
    "Sayangnya, sekarang modul tersebut juga menghasilkan keluaran saat diimpor sebagai modul:\n",
    "\n"
   ]
  },
  {
   "cell_type": "code",
   "execution_count": null,
   "metadata": {},
   "outputs": [],
   "source": [
    ">>> import mod\n",
    "Hacktiv8-PTP Python For Data Science\n",
    "[100, 200, 300]\n",
    "arg = quux\n",
    "<mod.Foo object at 0x0169AD50>"
   ]
  },
  {
   "cell_type": "markdown",
   "metadata": {},
   "source": [
    "Ini mungkin bukan yang kalian inginkan. Tidak biasanya modul menghasilkan keluaran saat diimpor.\n",
    "\n",
    "Bukankah lebih baik jika kalian dapat membedakan antara saat file dimuat sebagai modul dan saat dijalankan sebagai skrip standalone?\n",
    "\n",
    "Ketika file .py diimpor sebagai modul, Python menetapkan nama variabel khusus ke nama modul. Namun, jika file dijalankan sebagai skrip standalone, namanya disetel ke string 'main'. Dengan ini, kalian dapat membedakan mana yang terjadi pada waktu proses dan mengubahnya dengan perilaku yang sesuai:\n",
    "\n",
    "mod.py"
   ]
  },
  {
   "cell_type": "code",
   "execution_count": null,
   "metadata": {},
   "outputs": [],
   "source": [
    "s = \"Hacktiv8-PTP Python For Data Science\"\n",
    "a = [100, 200, 300]\n",
    "\n",
    "def foo(arg):\n",
    "    print(f'arg = {arg}')\n",
    "\n",
    "class Foo:\n",
    "    pass\n",
    "\n",
    "if (__name__ == '__main__'):\n",
    "    print('Executing as standalone script')\n",
    "    print(s)\n",
    "    print(a)\n",
    "    foo('quux')\n",
    "    x = Foo()\n",
    "    print(x)"
   ]
  },
  {
   "cell_type": "markdown",
   "metadata": {},
   "source": [
    "Sekarang, jika kalian menjalankannya sebagai skrip, kalian mendapatkan keluaran:\n",
    "\n"
   ]
  },
  {
   "cell_type": "markdown",
   "metadata": {},
   "source": [
    "(base) ardhiraka@rakas-Macbook-Very-Pro ~ % python mod.py\n",
    "Executing as standalone script\n",
    "Hacktiv8-PTP Python For Data Science\n",
    "[100, 200, 300]\n",
    "arg = quux\n",
    "<__main__.Foo object at 0x03450690>"
   ]
  },
  {
   "cell_type": "markdown",
   "metadata": {},
   "source": [
    "Tetapi jika kalian mengimpor sebagai modul, kalian tidak mendapatkan keluaran:\n",
    "\n"
   ]
  },
  {
   "cell_type": "code",
   "execution_count": null,
   "metadata": {},
   "outputs": [],
   "source": [
    ">>> import mod\n",
    ">>> mod.foo('grault')\n",
    "arg = grault"
   ]
  },
  {
   "cell_type": "markdown",
   "metadata": {},
   "source": [
    "Modul sering kali dirancang dengan kemampuan untuk dijalankan sebagai skrip standalone untuk tujuan testing fungsionalitas yang terdapat dalam modul. Hal ini disebut sebagai unit testing. Misalnya, kalian telah membuat modul fact.py berisi factorial function, sebagai berikut:\n",
    "\n",
    "fact.py"
   ]
  },
  {
   "cell_type": "code",
   "execution_count": null,
   "metadata": {},
   "outputs": [],
   "source": [
    "def fact(n):\n",
    "    return 1 if n == 1 else n * fact(n-1)\n",
    "\n",
    "if (__name__ == '__main__'):\n",
    "    import sys\n",
    "    if len(sys.argv) > 1:\n",
    "        print(fact(int(sys.argv[1])))"
   ]
  },
  {
   "cell_type": "markdown",
   "metadata": {},
   "source": [
    "File dapat diperlakukan sebagai modul, dan fungsi fact() dapat diimpor:\n",
    "\n"
   ]
  },
  {
   "cell_type": "code",
   "execution_count": null,
   "metadata": {},
   "outputs": [],
   "source": [
    ">>> from fact import fact\n",
    ">>> fact(6)\n",
    "720"
   ]
  },
  {
   "cell_type": "markdown",
   "metadata": {},
   "source": [
    "Tapi modul tersebut juga bisa dijalankan sebagai standalone dengan meneruskan argumen integer pada baris command-line untuk pengujian:\n",
    "\n"
   ]
  },
  {
   "cell_type": "markdown",
   "metadata": {},
   "source": [
    "(base) ardhiraka@rakas-Macbook-Very-Pro ~ % python fact.py 6\n",
    "720\n"
   ]
  },
  {
   "cell_type": "markdown",
   "metadata": {},
   "source": [
    "### Reloading a Module\n",
    "\n",
    "    Untuk alasan efisiensi, modul hanya dimuat sekali per sesi interpreter. Tidak masalah untuk definisi fungsi dan kelas, yang biasanya merupakan bagian terbesar dari konten modul. Tapi modul juga bisa berisi pernyataan yang dapat dieksekusi, biasanya untuk inisialisasi. Perhatikan bahwa statements hanya akan dijalankan saat pertama kali modul diimpor.\n",
    "\n",
    "Perhatikan file mod.py:\n",
    "\n",
    "mod.py\n",
    "\n"
   ]
  },
  {
   "cell_type": "code",
   "execution_count": null,
   "metadata": {},
   "outputs": [],
   "source": [
    "a = [100, 200, 300]\n",
    "print('a =', a)\n"
   ]
  },
  {
   "cell_type": "markdown",
   "metadata": {},
   "source": [
    "```\n",
    ">>> import mod\n",
    "a = [100, 200, 300]\n",
    ">>> import mod\n",
    ">>> import mod\n",
    "\n",
    ">>> mod.a\n",
    "[100, 200, 300]\n",
    "```"
   ]
  },
  {
   "cell_type": "markdown",
   "metadata": {},
   "source": [
    "Jika kalian membuat perubahan pada modul dan perlu memuatnya kembali, kalian perlu memulai ulang interpreter atau menggunakan fungsi yang disebut reload() dari modul importlib:\n",
    "\n"
   ]
  },
  {
   "cell_type": "code",
   "execution_count": null,
   "metadata": {},
   "outputs": [],
   "source": [
    ">>> import mod\n",
    "a = [100, 200, 300]\n",
    "\n",
    ">>> import mod\n",
    "\n",
    ">>> import importlib\n",
    ">>> importlib.reload(mod)\n",
    "a = [100, 200, 300]\n",
    "<module 'mod' from '/Users/ardhiraka/Desktop/H8Py'>"
   ]
  },
  {
   "cell_type": "markdown",
   "metadata": {},
   "source": [
    "### Python Packages\n",
    "Misalkan kalian mengembangkan aplikasi yang sangat besar yang mencakup banyak modul. Seiring bertambahnya jumlah modul, akan sulit untuk melacak semuanya jika dimasukan ke satu lokasi. Ini terjadi jika mereka memiliki nama atau fungsi yang mirip. Kalian mungkin harus mencari cara untuk mengelompokkan dan mengaturnya.\n",
    "\n",
    "Packages memungkinkan penataan hierarki nama modul menggunakan notasi titik. Dengan cara yang sama seperti modul membantu menghindari tabrakan antara nama variabel global, packages membantu menghindari tabrakan antara nama modul.\n",
    "\n",
    "Membuat package cukup mudah, karena menggunakan struktur file hierarki yang sama pada sistem operasi. Lihat pengaturan berikut:\n",
    "\n",
    "\n",
    "\n",
    "Di sini, ada direktori bernama pkg yang berisi dua modul, mod1.py dan mod2.py. Isi dari modul tersebut adalah:\n",
    "\n"
   ]
  },
  {
   "cell_type": "code",
   "execution_count": null,
   "metadata": {},
   "outputs": [],
   "source": [
    "# mod1.py\n",
    "\n",
    "def foo():\n",
    "    print('[mod1] foo()')\n",
    "\n",
    "class Foo:\n",
    "    pass\n"
   ]
  },
  {
   "cell_type": "code",
   "execution_count": null,
   "metadata": {},
   "outputs": [],
   "source": [
    "# mod2.py \n",
    "\n",
    "def bar():\n",
    "    print('[mod2] bar()')\n",
    "\n",
    "class Bar:\n",
    "    pass\n",
    "\n"
   ]
  },
  {
   "cell_type": "markdown",
   "metadata": {},
   "source": [
    "Dengan struktur ini, jika direktori pkg berada di lokasi di mana ia dapat ditemukan (di salah satu direktori yang terdapat dalam sys.path), kalian dapat merujuk ke dua modul dengan notasi titik (pkg.mod1, pkg.mod2) dan impor dengan sintaks yang sudah kalian pelajari:\n",
    "\n",
    "``` \n",
    "import <module_name>[, <module_name> ...]\n",
    "```"
   ]
  },
  {
   "cell_type": "markdown",
   "metadata": {},
   "source": [
    "#### Membuat Modul\n",
    "```\n",
    "latihanmodul/\n",
    "....pkg/\n",
    "    ... mod1.py \n",
    "    ... mod2.py \n",
    "```\n"
   ]
  },
  {
   "cell_type": "markdown",
   "metadata": {},
   "source": [
    "Modul\n",
    "![alt text](https://i.ibb.co/h2Nsr7n/Screen-Shot-2021-08-29-at-8-10-20-PM.png \"modul\")"
   ]
  },
  {
   "cell_type": "markdown",
   "metadata": {},
   "source": [
    "Modul\n",
    "![alt text](https://i.ibb.co/cyLFBfk/Screen-Shot-2021-08-29-at-8-29-39-PM.png \"modul\")"
   ]
  },
  {
   "cell_type": "markdown",
   "metadata": {},
   "source": [
    "``` from <module_name> import <name(s)> ``` "
   ]
  },
  {
   "cell_type": "markdown",
   "metadata": {},
   "source": [
    "```\n",
    ">>> from pkg.mod1 import foo\n",
    ">>> foo()\n",
    "[mod1] foo()\n",
    "````"
   ]
  },
  {
   "cell_type": "markdown",
   "metadata": {},
   "source": [
    "``` from <module_name> import <name> as <alt_name> ```"
   ]
  },
  {
   "cell_type": "markdown",
   "metadata": {},
   "source": [
    "``` \n",
    ">>> from pkg.mod2 import Bar as Qux\n",
    ">>> x = Qux()\n",
    ">>> x\n",
    "<pkg.mod2.Bar object at 0x036DFFD0> \n",
    "```"
   ]
  },
  {
   "cell_type": "markdown",
   "metadata": {},
   "source": [
    "``` \n",
    "from <package_name> import <modules_name>[, <module_name> ...]\n",
    "from <package_name> import <module_name> as <alt_name>\n",
    "```"
   ]
  },
  {
   "cell_type": "markdown",
   "metadata": {},
   "source": [
    "```\n",
    ">>> from pkg import mod1\n",
    ">>> mod1.foo()\n",
    "[mod1] foo()\n",
    "\n",
    ">>> from pkg import mod2 as quux\n",
    ">>> quux.bar()\n",
    "[mod2] bar()\n",
    "```"
   ]
  },
  {
   "cell_type": "markdown",
   "metadata": {},
   "source": [
    "```\n",
    ">>> import pkg\n",
    ">>> pkg\n",
    "<module 'pkg' (namespace)>\n",
    "```"
   ]
  },
  {
   "cell_type": "markdown",
   "metadata": {},
   "source": [
    "```\n",
    ">>> pkg.mod1\n",
    "Traceback (most recent call last):\n",
    "  File \"<pyshell#34>\", line 1, in <module>\n",
    "    pkg.mod1\n",
    "AttributeError: module 'pkg' has no attribute 'mod1'\n",
    ">>> pkg.mod1.foo()\n",
    "Traceback (most recent call last):\n",
    "  File \"<pyshell#35>\", line 1, in <module>\n",
    "    pkg.mod1.foo()\n",
    "AttributeError: module 'pkg' has no attribute 'mod1'\n",
    ">>> pkg.mod2.Bar()\n",
    "Traceback (most recent call last):\n",
    "  File \"<pyshell#36>\", line 1, in <module>\n",
    "    pkg.mod2.Bar()\n",
    "AttributeError: module 'pkg' has no attribute 'mod2'\n",
    "To actually import the modules or their contents, you need to use one of the forms shown above.\n",
    "```"
   ]
  },
  {
   "cell_type": "code",
   "execution_count": null,
   "metadata": {},
   "outputs": [],
   "source": []
  },
  {
   "cell_type": "markdown",
   "metadata": {},
   "source": [
    "### Additional Materi \n",
    "\n",
    "membuat modul Python yang sangat sederhana menggunakan C bahasa pemrograman \n"
   ]
  },
  {
   "cell_type": "code",
   "execution_count": null,
   "metadata": {},
   "outputs": [],
   "source": [
    "## Step 1 : Membuat file modulc_hello.c \n",
    "\n",
    "#include <Python.h>\n",
    "\n",
    "//Function 1: A simple 'hello world' function\n",
    "static PyObject* helloworld(PyObject* self, PyObject* args)\n",
    "{\n",
    "    printf(\"Hello World\\n\");\n",
    "    return Py_None;\n",
    "}\n",
    "\n",
    "// Our Module's Function Definition struct\n",
    "// We require this `NULL` to signal the end of our method\n",
    "// definition\n",
    "static PyMethodDef myMethods[] = {\n",
    "    { \"helloworld\", helloworld, METH_NOARGS, \"Prints Hello World\" },\n",
    "    { NULL, NULL, 0, NULL }\n",
    "};\n",
    "\n",
    "// Our Module Definition struct\n",
    "static struct PyModuleDef myModule = {\n",
    "    PyModuleDef_HEAD_INIT,\n",
    "    \"myModuleC\",\n",
    "    \"Test Module\",\n",
    "    -1,\n",
    "    myMethods\n",
    "};\n",
    "\n",
    "// Initializes our module using our above struct\n",
    "PyMODINIT_FUNC PyInit_myModule(void)\n",
    "{\n",
    "    return PyModule_Create(&myModule);\n",
    "}\n"
   ]
  },
  {
   "cell_type": "code",
   "execution_count": null,
   "metadata": {},
   "outputs": [],
   "source": [
    "## Step 2 : Create Setup.py \n",
    "\n",
    "from distutils.core import setup, Extension\n",
    "setup(name = 'myModuleC', version = '1.0',  \\\n",
    "   ext_modules = [Extension('myModuleC', ['modulc_hello.c'])])"
   ]
  },
  {
   "cell_type": "markdown",
   "metadata": {},
   "source": [
    "### Building and Installing our Module\n",
    "\n",
    "1. build \n",
    "       $>python setup.py build \n",
    "\n",
    "        Output : modulc_hello.o   \n",
    "                 myModuleC.cpython-39-darwin.so\n",
    "\n",
    "2. install \n",
    "        $>python setup.py install \n",
    "        running install\n",
    "        running build\n",
    "        running build_ext\n",
    "        running install_lib\n",
    "        copying build/lib.macosx-10.14-x86_64-3.9/myModuleC.cpython-39-darwin.so -> .pyenv/versions/django-rest/lib/python3.9/site-packages \n",
    "        running install_egg_info\n",
    "        "
   ]
  },
  {
   "cell_type": "code",
   "execution_count": null,
   "metadata": {},
   "outputs": [],
   "source": [
    "$> python \n",
    "Python 3.9.0 (default, Jan 11 2021, 21:20:16) \n",
    "[Clang 10.0.1 (clang-1001.0.46.4)] on darwin\n",
    "Type \"help\", \"copyright\", \"credits\" or \"license\" for more information.\n",
    ">>> import myModuleC\n",
    ">>> myModuleC.helloworld()\n",
    "Hello World IKG\n",
    ">>> "
   ]
  },
  {
   "cell_type": "code",
   "execution_count": null,
   "metadata": {},
   "outputs": [],
   "source": []
  },
  {
   "cell_type": "code",
   "execution_count": null,
   "metadata": {},
   "outputs": [],
   "source": []
  },
  {
   "cell_type": "code",
   "execution_count": null,
   "metadata": {},
   "outputs": [],
   "source": [
    "        "
   ]
  },
  {
   "cell_type": "markdown",
   "metadata": {},
   "source": [
    "#### Untuk apa __init__.py?\n",
    "\n",
    "Python mendefinisikan dua jenis paket, paket reguler dan paket namespace. Paket reguler adalah paket tradisional seperti yang ada di Python 3.2 dan sebelumnya. Paket reguler biasanya diimplementasikan sebagai direktori yang berisi file __init__.py. Ketika paket reguler diimpor, file __init__.py ini dieksekusi secara implisit, dan objek yang didefinisikannya terikat dengan nama-nama di namespace paket. File __init__.py dapat berisi kode Python yang sama dengan modul lainnya, dan Python akan menambahkan beberapa atribut tambahan ke modul saat diimpor."
   ]
  },
  {
   "cell_type": "markdown",
   "metadata": {},
   "source": [
    "Ada 2 alasan utama untuk __init__.py\n"
   ]
  },
  {
   "cell_type": "markdown",
   "metadata": {},
   "source": [
    "1. Untuk kenyamanan: pengguna lain tidak perlu mengetahui lokasi pasti fungsi Anda di hierarki paket Anda.\n",
    "\n"
   ]
  },
  {
   "cell_type": "markdown",
   "metadata": {},
   "source": [
    "```\n",
    "your_package/\n",
    "  __init__.py\n",
    "  file1.py/\n",
    "  file2.py/\n",
    "    ...\n",
    "  fileN.py\n",
    "\n",
    "# in __init__.py\n",
    "from file1 import *\n",
    "from file2 import *\n",
    "...\n",
    "from fileN import *\n",
    "\n",
    "# in file1.py\n",
    "def add():\n",
    "    pass\n",
    "```    "
   ]
  },
  {
   "cell_type": "markdown",
   "metadata": {},
   "source": [
    "    kemudian orang lain dapat memanggil add () oleh\n",
    "    ``` from your_package import add  ```\n",
    "\n",
    "    tanpa mengetahui file1, suka\n",
    "\n",
    "    ``` from your_package.file1 import add ``` \n",
    "    "
   ]
  },
  {
   "cell_type": "markdown",
   "metadata": {},
   "source": [
    "2. Jika Anda ingin sesuatu diinisialisasi; misalnya, pencatatan (yang harus diletakkan di tingkat atas):"
   ]
  },
  {
   "cell_type": "markdown",
   "metadata": {},
   "source": [
    "``` \n",
    "import logging.config\n",
    "logging.config.dictConfig(Your_logging_config)\n",
    " ```"
   ]
  },
  {
   "cell_type": "code",
   "execution_count": null,
   "metadata": {},
   "outputs": [],
   "source": []
  },
  {
   "cell_type": "markdown",
   "metadata": {},
   "source": [
    "    Fungsi-fungsi yang terdapat di dalam class di sebut juga dengan method, \n",
    "\n",
    "    pada pemrograman python terdapat sebuah method dengan nama __init__(), Fungsi Method Init Pada Pemrograman Python yaitu merupakan method yang pertama kali di jalankan atau di proses sebelum method-method yang lainnya dan method __init__() berguna untuk melakukan inisialisasi pembuatan object dari class.\n",
    "\n",
    "    Untuk struktur penulisan dari method __init__() di dalam sebuah class yaitu seperti dibawah ini :"
   ]
  },
  {
   "cell_type": "code",
   "execution_count": null,
   "metadata": {},
   "outputs": [],
   "source": [
    "class namaClass():\n",
    "    def __init__(self):\n",
    "        print(\"ini init\")\n",
    " \n",
    "cetak = namaClass()"
   ]
  },
  {
   "cell_type": "code",
   "execution_count": null,
   "metadata": {},
   "outputs": [],
   "source": [
    "## membuat Class Mahasiswa \n",
    "class Mahasiswa():\n",
    "    def __init__(self):\n",
    "        print(\"ini adalah init\")\n",
    "\n",
    "mhs = Mahasiswa()\n"
   ]
  },
  {
   "cell_type": "code",
   "execution_count": null,
   "metadata": {},
   "outputs": [],
   "source": [
    "class Mahasiswa():\n",
    "\n",
    "    def __init__(self, masukan_nama):\n",
    "        self.nama = masukan_nama\n",
    "\n",
    "mhs = Mahasiswa(\"Joko Python\")\n",
    "print(mhs.nama)"
   ]
  },
  {
   "cell_type": "markdown",
   "metadata": {},
   "source": [
    "    Namun perbedaan method init dan method yang lainya yaitu, \n",
    "    jika method pada umumnya untuk mengakses method tersebut kita harus memanggil nama methodnya, \n",
    "    nah sedangkan method init kita tidak perlu memanggil nama methodnya \n",
    "    dan secara otomatis proses yang terdapat di dalam method tersebut akan \n",
    "    di jalankan seperti script dibawah ini :"
   ]
  },
  {
   "cell_type": "code",
   "execution_count": null,
   "metadata": {},
   "outputs": [],
   "source": [
    "class Mahasiswa():\n",
    "    def __init__(self, masukan_nama):\n",
    "        self.nama = masukan_nama\n",
    " \n",
    "    def nilai(self, nilai): # dijalankan ketika dipangil\n",
    "        if nilai >= 60:\n",
    "            print(self.nama,'lulus dengan nilai :',nilai)\n",
    "        else:\n",
    "            print(self.nama,'tidak lulus dengan nilai :',nilai)\n",
    " \n",
    "mhs = Mahasiswa(\"Budi Hartono\")\n",
    "print(mhs.nama) # dipanggil tanpa menggunakan nama method\n",
    " \n",
    "mhs.nilai(60); # dipanggil dengan menggunakan nama method"
   ]
  },
  {
   "cell_type": "code",
   "execution_count": null,
   "metadata": {},
   "outputs": [],
   "source": []
  }
 ],
 "metadata": {
  "kernelspec": {
   "display_name": "Python 3 (ipykernel)",
   "language": "python",
   "name": "python3"
  },
  "language_info": {
   "codemirror_mode": {
    "name": "ipython",
    "version": 3
   },
   "file_extension": ".py",
   "mimetype": "text/x-python",
   "name": "python",
   "nbconvert_exporter": "python",
   "pygments_lexer": "ipython3",
   "version": "3.9.7"
  }
 },
 "nbformat": 4,
 "nbformat_minor": 4
}
