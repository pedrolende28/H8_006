{
 "cells": [
  {
   "cell_type": "code",
   "execution_count": 10,
   "id": "89ba09e8",
   "metadata": {},
   "outputs": [],
   "source": [
    "import numpy as np"
   ]
  },
  {
   "cell_type": "code",
   "execution_count": 11,
   "id": "5eb31514",
   "metadata": {},
   "outputs": [],
   "source": [
    "x = np.full((10), [4])\n",
    "y = np.full((10), [4, 0, 0, 0, 0, 0, 0, 0, 0, 4])"
   ]
  },
  {
   "cell_type": "code",
   "execution_count": 12,
   "id": "d463c6fa",
   "metadata": {},
   "outputs": [],
   "source": [
    "array = np.concatenate((x, y, y, y, y, y, y, y, y, x))"
   ]
  },
  {
   "cell_type": "code",
   "execution_count": 13,
   "id": "bd2b1e3b",
   "metadata": {},
   "outputs": [
    {
     "data": {
      "text/plain": [
       "array([[4, 4, 4, 4, 4, 4, 4, 4, 4, 4],\n",
       "       [4, 0, 0, 0, 0, 0, 0, 0, 0, 4],\n",
       "       [4, 0, 0, 0, 0, 0, 0, 0, 0, 4],\n",
       "       [4, 0, 0, 0, 0, 0, 0, 0, 0, 4],\n",
       "       [4, 0, 0, 0, 0, 0, 0, 0, 0, 4],\n",
       "       [4, 0, 0, 0, 0, 0, 0, 0, 0, 4],\n",
       "       [4, 0, 0, 0, 0, 0, 0, 0, 0, 4],\n",
       "       [4, 0, 0, 0, 0, 0, 0, 0, 0, 4],\n",
       "       [4, 0, 0, 0, 0, 0, 0, 0, 0, 4],\n",
       "       [4, 4, 4, 4, 4, 4, 4, 4, 4, 4]])"
      ]
     },
     "execution_count": 13,
     "metadata": {},
     "output_type": "execute_result"
    }
   ],
   "source": [
    "array.reshape(10, 10)"
   ]
  },
  {
   "cell_type": "code",
   "execution_count": null,
   "id": "e2bc495b",
   "metadata": {},
   "outputs": [],
   "source": []
  }
 ],
 "metadata": {
  "kernelspec": {
   "display_name": "Python 3 (ipykernel)",
   "language": "python",
   "name": "python3"
  },
  "language_info": {
   "codemirror_mode": {
    "name": "ipython",
    "version": 3
   },
   "file_extension": ".py",
   "mimetype": "text/x-python",
   "name": "python",
   "nbconvert_exporter": "python",
   "pygments_lexer": "ipython3",
   "version": "3.9.7"
  }
 },
 "nbformat": 4,
 "nbformat_minor": 5
}
