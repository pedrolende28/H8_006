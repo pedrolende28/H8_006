{
 "cells": [
  {
   "cell_type": "code",
   "execution_count": 1,
   "id": "fa535060",
   "metadata": {},
   "outputs": [],
   "source": [
    "import numpy as np\n",
    "import pandas as pd\n",
    "import seaborn as sns"
   ]
  },
  {
   "cell_type": "code",
   "execution_count": 2,
   "id": "f240c0dd",
   "metadata": {},
   "outputs": [],
   "source": [
    "Data = sns.load_dataset('mpg')"
   ]
  },
  {
   "cell_type": "code",
   "execution_count": 5,
   "id": "150e1b2c",
   "metadata": {},
   "outputs": [],
   "source": [
    "dtframe = pd.DataFrame(Data)"
   ]
  },
  {
   "cell_type": "code",
   "execution_count": 15,
   "id": "10238133",
   "metadata": {},
   "outputs": [
    {
     "data": {
      "text/plain": [
       "origin\n",
       "usa       29167.0\n",
       "japan      6307.0\n",
       "europe     5478.0\n",
       "Name: horsepower, dtype: float64"
      ]
     },
     "execution_count": 15,
     "metadata": {},
     "output_type": "execute_result"
    }
   ],
   "source": [
    "dtframe.groupby('origin', sort=False)['horsepower'].sum()"
   ]
  }
 ],
 "metadata": {
  "kernelspec": {
   "display_name": "Python 3 (ipykernel)",
   "language": "python",
   "name": "python3"
  },
  "language_info": {
   "codemirror_mode": {
    "name": "ipython",
    "version": 3
   },
   "file_extension": ".py",
   "mimetype": "text/x-python",
   "name": "python",
   "nbconvert_exporter": "python",
   "pygments_lexer": "ipython3",
   "version": "3.9.7"
  }
 },
 "nbformat": 4,
 "nbformat_minor": 5
}
